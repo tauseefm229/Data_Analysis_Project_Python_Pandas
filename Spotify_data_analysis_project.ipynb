{
 "cells": [
  {
   "cell_type": "markdown",
   "id": "72067ea7-3817-490a-b0f4-09b8615dab29",
   "metadata": {},
   "source": [
    "## Spotify Music Data Analysis\n",
    "#### The primary goal of this project is to perform data cleaning, exploratory data analysis (EDA), and visualization to extract insights from the dataset. By leveraging Python libraries like Pandas, NumPy, Matplotlib, Seaborn, and others, we aim to answer key questions about music trends and listener behavior."
   ]
  },
  {
   "cell_type": "code",
   "execution_count": 2,
   "id": "eeabd9f5-a14a-4ec4-9656-dc2d00032a54",
   "metadata": {},
   "outputs": [],
   "source": [
    "# importing the lib\n",
    "\n",
    "import pandas as pd\n",
    "import numpy as np\n",
    "import matplotlib.pyplot as plt\n",
    "import seaborn as sns"
   ]
  },
  {
   "cell_type": "code",
   "execution_count": 3,
   "id": "ee5dbed6-b983-41db-ba3c-b148497d9a19",
   "metadata": {
    "scrolled": true
   },
   "outputs": [],
   "source": [
    "# read the dataset\n",
    "\n",
    "df = pd.read_csv('Spotify_data.csv')"
   ]
  },
  {
   "cell_type": "code",
   "execution_count": 4,
   "id": "39ce3196-6448-49dd-a7f2-1f32de5f6345",
   "metadata": {},
   "outputs": [
    {
     "data": {
      "text/html": [
       "<div>\n",
       "<style scoped>\n",
       "    .dataframe tbody tr th:only-of-type {\n",
       "        vertical-align: middle;\n",
       "    }\n",
       "\n",
       "    .dataframe tbody tr th {\n",
       "        vertical-align: top;\n",
       "    }\n",
       "\n",
       "    .dataframe thead th {\n",
       "        text-align: right;\n",
       "    }\n",
       "</style>\n",
       "<table border=\"1\" class=\"dataframe\">\n",
       "  <thead>\n",
       "    <tr style=\"text-align: right;\">\n",
       "      <th></th>\n",
       "      <th>Artist</th>\n",
       "      <th>Track</th>\n",
       "      <th>Album</th>\n",
       "      <th>Album_type</th>\n",
       "      <th>Danceability</th>\n",
       "      <th>Energy</th>\n",
       "      <th>Loudness</th>\n",
       "      <th>Speechiness</th>\n",
       "      <th>Acousticness</th>\n",
       "      <th>Instrumentalness</th>\n",
       "      <th>...</th>\n",
       "      <th>Title</th>\n",
       "      <th>Channel</th>\n",
       "      <th>Views</th>\n",
       "      <th>Likes</th>\n",
       "      <th>Comments</th>\n",
       "      <th>Licensed</th>\n",
       "      <th>official_video</th>\n",
       "      <th>Stream</th>\n",
       "      <th>EnergyLiveness</th>\n",
       "      <th>most_playedon</th>\n",
       "    </tr>\n",
       "  </thead>\n",
       "  <tbody>\n",
       "    <tr>\n",
       "      <th>0</th>\n",
       "      <td>Gorillaz</td>\n",
       "      <td>Feel Good Inc.</td>\n",
       "      <td>Demon Days</td>\n",
       "      <td>album</td>\n",
       "      <td>0.818</td>\n",
       "      <td>0.705</td>\n",
       "      <td>-6.679</td>\n",
       "      <td>0.1770</td>\n",
       "      <td>0.008360</td>\n",
       "      <td>0.002330</td>\n",
       "      <td>...</td>\n",
       "      <td>Gorillaz - Feel Good Inc. (Official Video)</td>\n",
       "      <td>Gorillaz</td>\n",
       "      <td>693555221</td>\n",
       "      <td>6220896</td>\n",
       "      <td>169907</td>\n",
       "      <td>TRUE</td>\n",
       "      <td>TRUE</td>\n",
       "      <td>1040234854</td>\n",
       "      <td>1.150082</td>\n",
       "      <td>Spotify</td>\n",
       "    </tr>\n",
       "    <tr>\n",
       "      <th>1</th>\n",
       "      <td>Gorillaz</td>\n",
       "      <td>Rhinestone Eyes</td>\n",
       "      <td>Plastic Beach</td>\n",
       "      <td>album</td>\n",
       "      <td>0.676</td>\n",
       "      <td>0.703</td>\n",
       "      <td>-5.815</td>\n",
       "      <td>0.0302</td>\n",
       "      <td>0.086900</td>\n",
       "      <td>0.000687</td>\n",
       "      <td>...</td>\n",
       "      <td>Gorillaz - Rhinestone Eyes [Storyboard Film] (...</td>\n",
       "      <td>Gorillaz</td>\n",
       "      <td>72011645</td>\n",
       "      <td>1079128</td>\n",
       "      <td>31003</td>\n",
       "      <td>TRUE</td>\n",
       "      <td>TRUE</td>\n",
       "      <td>310083733</td>\n",
       "      <td>15.183585</td>\n",
       "      <td>Spotify</td>\n",
       "    </tr>\n",
       "    <tr>\n",
       "      <th>2</th>\n",
       "      <td>Gorillaz</td>\n",
       "      <td>New Gold (feat. Tame Impala and Bootie Brown)</td>\n",
       "      <td>New Gold (feat. Tame Impala and Bootie Brown)</td>\n",
       "      <td>single</td>\n",
       "      <td>0.695</td>\n",
       "      <td>0.923</td>\n",
       "      <td>-3.930</td>\n",
       "      <td>0.0522</td>\n",
       "      <td>0.042500</td>\n",
       "      <td>0.046900</td>\n",
       "      <td>...</td>\n",
       "      <td>Gorillaz - New Gold ft. Tame Impala &amp; Bootie B...</td>\n",
       "      <td>Gorillaz</td>\n",
       "      <td>8435055</td>\n",
       "      <td>282142</td>\n",
       "      <td>7399</td>\n",
       "      <td>TRUE</td>\n",
       "      <td>TRUE</td>\n",
       "      <td>63063467</td>\n",
       "      <td>7.956897</td>\n",
       "      <td>Spotify</td>\n",
       "    </tr>\n",
       "    <tr>\n",
       "      <th>3</th>\n",
       "      <td>Gorillaz</td>\n",
       "      <td>On Melancholy Hill</td>\n",
       "      <td>Plastic Beach</td>\n",
       "      <td>album</td>\n",
       "      <td>0.689</td>\n",
       "      <td>0.739</td>\n",
       "      <td>-5.810</td>\n",
       "      <td>0.0260</td>\n",
       "      <td>0.000015</td>\n",
       "      <td>0.509000</td>\n",
       "      <td>...</td>\n",
       "      <td>Gorillaz - On Melancholy Hill (Official Video)</td>\n",
       "      <td>Gorillaz</td>\n",
       "      <td>211754952</td>\n",
       "      <td>1788577</td>\n",
       "      <td>55229</td>\n",
       "      <td>TRUE</td>\n",
       "      <td>TRUE</td>\n",
       "      <td>434663559</td>\n",
       "      <td>11.546875</td>\n",
       "      <td>Spotify</td>\n",
       "    </tr>\n",
       "    <tr>\n",
       "      <th>4</th>\n",
       "      <td>Gorillaz</td>\n",
       "      <td>Clint Eastwood</td>\n",
       "      <td>Gorillaz</td>\n",
       "      <td>album</td>\n",
       "      <td>0.663</td>\n",
       "      <td>0.694</td>\n",
       "      <td>-8.627</td>\n",
       "      <td>0.1710</td>\n",
       "      <td>0.025300</td>\n",
       "      <td>0.000000</td>\n",
       "      <td>...</td>\n",
       "      <td>Gorillaz - Clint Eastwood (Official Video)</td>\n",
       "      <td>Gorillaz</td>\n",
       "      <td>618480958</td>\n",
       "      <td>6197318</td>\n",
       "      <td>155930</td>\n",
       "      <td>TRUE</td>\n",
       "      <td>TRUE</td>\n",
       "      <td>617259738</td>\n",
       "      <td>9.942693</td>\n",
       "      <td>Youtube</td>\n",
       "    </tr>\n",
       "  </tbody>\n",
       "</table>\n",
       "<p>5 rows × 24 columns</p>\n",
       "</div>"
      ],
      "text/plain": [
       "     Artist                                          Track  \\\n",
       "0  Gorillaz                                 Feel Good Inc.   \n",
       "1  Gorillaz                                Rhinestone Eyes   \n",
       "2  Gorillaz  New Gold (feat. Tame Impala and Bootie Brown)   \n",
       "3  Gorillaz                             On Melancholy Hill   \n",
       "4  Gorillaz                                 Clint Eastwood   \n",
       "\n",
       "                                           Album Album_type  Danceability  \\\n",
       "0                                     Demon Days      album         0.818   \n",
       "1                                  Plastic Beach      album         0.676   \n",
       "2  New Gold (feat. Tame Impala and Bootie Brown)     single         0.695   \n",
       "3                                  Plastic Beach      album         0.689   \n",
       "4                                       Gorillaz      album         0.663   \n",
       "\n",
       "   Energy  Loudness  Speechiness  Acousticness  Instrumentalness  ...  \\\n",
       "0   0.705    -6.679       0.1770      0.008360          0.002330  ...   \n",
       "1   0.703    -5.815       0.0302      0.086900          0.000687  ...   \n",
       "2   0.923    -3.930       0.0522      0.042500          0.046900  ...   \n",
       "3   0.739    -5.810       0.0260      0.000015          0.509000  ...   \n",
       "4   0.694    -8.627       0.1710      0.025300          0.000000  ...   \n",
       "\n",
       "                                               Title   Channel      Views  \\\n",
       "0         Gorillaz - Feel Good Inc. (Official Video)  Gorillaz  693555221   \n",
       "1  Gorillaz - Rhinestone Eyes [Storyboard Film] (...  Gorillaz   72011645   \n",
       "2  Gorillaz - New Gold ft. Tame Impala & Bootie B...  Gorillaz    8435055   \n",
       "3     Gorillaz - On Melancholy Hill (Official Video)  Gorillaz  211754952   \n",
       "4         Gorillaz - Clint Eastwood (Official Video)  Gorillaz  618480958   \n",
       "\n",
       "     Likes Comments Licensed  official_video      Stream  EnergyLiveness  \\\n",
       "0  6220896   169907     TRUE            TRUE  1040234854        1.150082   \n",
       "1  1079128    31003     TRUE            TRUE   310083733       15.183585   \n",
       "2   282142     7399     TRUE            TRUE    63063467        7.956897   \n",
       "3  1788577    55229     TRUE            TRUE   434663559       11.546875   \n",
       "4  6197318   155930     TRUE            TRUE   617259738        9.942693   \n",
       "\n",
       "  most_playedon  \n",
       "0       Spotify  \n",
       "1       Spotify  \n",
       "2       Spotify  \n",
       "3       Spotify  \n",
       "4       Youtube  \n",
       "\n",
       "[5 rows x 24 columns]"
      ]
     },
     "execution_count": 4,
     "metadata": {},
     "output_type": "execute_result"
    }
   ],
   "source": [
    "# viewing the first few rows of the dataset\n",
    "# the head() function displays the first 5 rows of the dataframe\n",
    "df.head()"
   ]
  },
  {
   "cell_type": "code",
   "execution_count": 5,
   "id": "63293e74-912b-40b5-be6a-8150a7450f06",
   "metadata": {},
   "outputs": [
    {
     "data": {
      "text/plain": [
       "Index(['Artist', 'Track', 'Album', 'Album_type', 'Danceability', 'Energy',\n",
       "       'Loudness', 'Speechiness', 'Acousticness', 'Instrumentalness',\n",
       "       'Liveness', 'Valence', 'Tempo', 'Duration_min', 'Title', 'Channel',\n",
       "       'Views', 'Likes', 'Comments', 'Licensed', 'official_video', 'Stream',\n",
       "       'EnergyLiveness', 'most_playedon'],\n",
       "      dtype='object')"
      ]
     },
     "execution_count": 5,
     "metadata": {},
     "output_type": "execute_result"
    }
   ],
   "source": [
    "df.columns"
   ]
  },
  {
   "cell_type": "code",
   "execution_count": 6,
   "id": "e99f2c93-4fc1-4246-9a7d-749aa39d8634",
   "metadata": {},
   "outputs": [
    {
     "data": {
      "text/html": [
       "<div>\n",
       "<style scoped>\n",
       "    .dataframe tbody tr th:only-of-type {\n",
       "        vertical-align: middle;\n",
       "    }\n",
       "\n",
       "    .dataframe tbody tr th {\n",
       "        vertical-align: top;\n",
       "    }\n",
       "\n",
       "    .dataframe thead th {\n",
       "        text-align: right;\n",
       "    }\n",
       "</style>\n",
       "<table border=\"1\" class=\"dataframe\">\n",
       "  <thead>\n",
       "    <tr style=\"text-align: right;\">\n",
       "      <th></th>\n",
       "      <th>Duration_min</th>\n",
       "      <th>Artist</th>\n",
       "      <th>Track</th>\n",
       "      <th>most_playedon</th>\n",
       "      <th>Licensed</th>\n",
       "      <th>official_video</th>\n",
       "      <th>Title</th>\n",
       "      <th>Channel</th>\n",
       "    </tr>\n",
       "  </thead>\n",
       "  <tbody>\n",
       "    <tr>\n",
       "      <th>0</th>\n",
       "      <td>3.710667</td>\n",
       "      <td>Gorillaz</td>\n",
       "      <td>Feel Good Inc.</td>\n",
       "      <td>Spotify</td>\n",
       "      <td>TRUE</td>\n",
       "      <td>TRUE</td>\n",
       "      <td>Gorillaz - Feel Good Inc. (Official Video)</td>\n",
       "      <td>Gorillaz</td>\n",
       "    </tr>\n",
       "    <tr>\n",
       "      <th>1</th>\n",
       "      <td>3.336217</td>\n",
       "      <td>Gorillaz</td>\n",
       "      <td>Rhinestone Eyes</td>\n",
       "      <td>Spotify</td>\n",
       "      <td>TRUE</td>\n",
       "      <td>TRUE</td>\n",
       "      <td>Gorillaz - Rhinestone Eyes [Storyboard Film] (...</td>\n",
       "      <td>Gorillaz</td>\n",
       "    </tr>\n",
       "    <tr>\n",
       "      <th>2</th>\n",
       "      <td>3.585833</td>\n",
       "      <td>Gorillaz</td>\n",
       "      <td>New Gold (feat. Tame Impala and Bootie Brown)</td>\n",
       "      <td>Spotify</td>\n",
       "      <td>TRUE</td>\n",
       "      <td>TRUE</td>\n",
       "      <td>Gorillaz - New Gold ft. Tame Impala &amp; Bootie B...</td>\n",
       "      <td>Gorillaz</td>\n",
       "    </tr>\n",
       "    <tr>\n",
       "      <th>3</th>\n",
       "      <td>3.897783</td>\n",
       "      <td>Gorillaz</td>\n",
       "      <td>On Melancholy Hill</td>\n",
       "      <td>Spotify</td>\n",
       "      <td>TRUE</td>\n",
       "      <td>TRUE</td>\n",
       "      <td>Gorillaz - On Melancholy Hill (Official Video)</td>\n",
       "      <td>Gorillaz</td>\n",
       "    </tr>\n",
       "    <tr>\n",
       "      <th>4</th>\n",
       "      <td>5.682000</td>\n",
       "      <td>Gorillaz</td>\n",
       "      <td>Clint Eastwood</td>\n",
       "      <td>Youtube</td>\n",
       "      <td>TRUE</td>\n",
       "      <td>TRUE</td>\n",
       "      <td>Gorillaz - Clint Eastwood (Official Video)</td>\n",
       "      <td>Gorillaz</td>\n",
       "    </tr>\n",
       "  </tbody>\n",
       "</table>\n",
       "</div>"
      ],
      "text/plain": [
       "   Duration_min    Artist                                          Track  \\\n",
       "0      3.710667  Gorillaz                                 Feel Good Inc.   \n",
       "1      3.336217  Gorillaz                                Rhinestone Eyes   \n",
       "2      3.585833  Gorillaz  New Gold (feat. Tame Impala and Bootie Brown)   \n",
       "3      3.897783  Gorillaz                             On Melancholy Hill   \n",
       "4      5.682000  Gorillaz                                 Clint Eastwood   \n",
       "\n",
       "  most_playedon Licensed official_video  \\\n",
       "0       Spotify     TRUE           TRUE   \n",
       "1       Spotify     TRUE           TRUE   \n",
       "2       Spotify     TRUE           TRUE   \n",
       "3       Spotify     TRUE           TRUE   \n",
       "4       Youtube     TRUE           TRUE   \n",
       "\n",
       "                                               Title   Channel  \n",
       "0         Gorillaz - Feel Good Inc. (Official Video)  Gorillaz  \n",
       "1  Gorillaz - Rhinestone Eyes [Storyboard Film] (...  Gorillaz  \n",
       "2  Gorillaz - New Gold ft. Tame Impala & Bootie B...  Gorillaz  \n",
       "3     Gorillaz - On Melancholy Hill (Official Video)  Gorillaz  \n",
       "4         Gorillaz - Clint Eastwood (Official Video)  Gorillaz  "
      ]
     },
     "execution_count": 6,
     "metadata": {},
     "output_type": "execute_result"
    }
   ],
   "source": [
    "df[['Duration_min', 'Artist', 'Track', 'most_playedon','Licensed', 'official_video', 'Title', 'Channel']].head()"
   ]
  },
  {
   "cell_type": "code",
   "execution_count": 7,
   "id": "a8dc5b86-84d6-48a2-b8e8-f04def091834",
   "metadata": {},
   "outputs": [
    {
     "name": "stdout",
     "output_type": "stream",
     "text": [
      "<class 'pandas.core.frame.DataFrame'>\n",
      "RangeIndex: 20594 entries, 0 to 20593\n",
      "Data columns (total 24 columns):\n",
      " #   Column            Non-Null Count  Dtype  \n",
      "---  ------            --------------  -----  \n",
      " 0   Artist            20594 non-null  object \n",
      " 1   Track             20594 non-null  object \n",
      " 2   Album             20594 non-null  object \n",
      " 3   Album_type        20594 non-null  object \n",
      " 4   Danceability      20594 non-null  float64\n",
      " 5   Energy            20594 non-null  float64\n",
      " 6   Loudness          20594 non-null  float64\n",
      " 7   Speechiness       20594 non-null  float64\n",
      " 8   Acousticness      20594 non-null  float64\n",
      " 9   Instrumentalness  20594 non-null  float64\n",
      " 10  Liveness          20594 non-null  float64\n",
      " 11  Valence           20594 non-null  float64\n",
      " 12  Tempo             20594 non-null  float64\n",
      " 13  Duration_min      20594 non-null  float64\n",
      " 14  Title             20594 non-null  object \n",
      " 15  Channel           20594 non-null  object \n",
      " 16  Views             20594 non-null  int64  \n",
      " 17  Likes             20594 non-null  int64  \n",
      " 18  Comments          20594 non-null  int64  \n",
      " 19  Licensed          20594 non-null  object \n",
      " 20  official_video    20594 non-null  object \n",
      " 21  Stream            20594 non-null  int64  \n",
      " 22  EnergyLiveness    20592 non-null  float64\n",
      " 23  most_playedon     20594 non-null  object \n",
      "dtypes: float64(11), int64(4), object(9)\n",
      "memory usage: 3.8+ MB\n"
     ]
    }
   ],
   "source": [
    "df.info()"
   ]
  },
  {
   "cell_type": "markdown",
   "id": "c22cd384-4416-4a0c-9c5c-0ac606f6e511",
   "metadata": {},
   "source": [
    "--> RangeIndex: 20594 entries, 0 to 20593.\n",
    "--> Data columns (total 24 columns).\n",
    "--> Categorical features contain the object type data_type."
   ]
  },
  {
   "cell_type": "code",
   "execution_count": 9,
   "id": "37d261d4-6362-4de1-8e23-43534266b1df",
   "metadata": {},
   "outputs": [
    {
     "name": "stdout",
     "output_type": "stream",
     "text": [
      "Dataset contains 20594 rows and 24 columns.\"\n"
     ]
    }
   ],
   "source": [
    "# TOTAL ROWS AND COLUMNS\n",
    "print(f'Dataset contains {df.shape[0]} rows and {df.shape[1]} columns.\"')"
   ]
  },
  {
   "cell_type": "code",
   "execution_count": 10,
   "id": "b0a1092a-ea1d-4f61-8275-089a920148f0",
   "metadata": {},
   "outputs": [
    {
     "data": {
      "text/html": [
       "<div>\n",
       "<style scoped>\n",
       "    .dataframe tbody tr th:only-of-type {\n",
       "        vertical-align: middle;\n",
       "    }\n",
       "\n",
       "    .dataframe tbody tr th {\n",
       "        vertical-align: top;\n",
       "    }\n",
       "\n",
       "    .dataframe thead th {\n",
       "        text-align: right;\n",
       "    }\n",
       "</style>\n",
       "<table border=\"1\" class=\"dataframe\">\n",
       "  <thead>\n",
       "    <tr style=\"text-align: right;\">\n",
       "      <th></th>\n",
       "      <th>Licensed</th>\n",
       "      <th>official_video</th>\n",
       "    </tr>\n",
       "  </thead>\n",
       "  <tbody>\n",
       "    <tr>\n",
       "      <th>0</th>\n",
       "      <td>TRUE</td>\n",
       "      <td>TRUE</td>\n",
       "    </tr>\n",
       "    <tr>\n",
       "      <th>1</th>\n",
       "      <td>TRUE</td>\n",
       "      <td>TRUE</td>\n",
       "    </tr>\n",
       "    <tr>\n",
       "      <th>2</th>\n",
       "      <td>TRUE</td>\n",
       "      <td>TRUE</td>\n",
       "    </tr>\n",
       "    <tr>\n",
       "      <th>3</th>\n",
       "      <td>TRUE</td>\n",
       "      <td>TRUE</td>\n",
       "    </tr>\n",
       "    <tr>\n",
       "      <th>4</th>\n",
       "      <td>TRUE</td>\n",
       "      <td>TRUE</td>\n",
       "    </tr>\n",
       "    <tr>\n",
       "      <th>...</th>\n",
       "      <td>...</td>\n",
       "      <td>...</td>\n",
       "    </tr>\n",
       "    <tr>\n",
       "      <th>20589</th>\n",
       "      <td>TRUE</td>\n",
       "      <td>TRUE</td>\n",
       "    </tr>\n",
       "    <tr>\n",
       "      <th>20590</th>\n",
       "      <td>TRUE</td>\n",
       "      <td>TRUE</td>\n",
       "    </tr>\n",
       "    <tr>\n",
       "      <th>20591</th>\n",
       "      <td>TRUE</td>\n",
       "      <td>TRUE</td>\n",
       "    </tr>\n",
       "    <tr>\n",
       "      <th>20592</th>\n",
       "      <td>TRUE</td>\n",
       "      <td>TRUE</td>\n",
       "    </tr>\n",
       "    <tr>\n",
       "      <th>20593</th>\n",
       "      <td>TRUE</td>\n",
       "      <td>TRUE</td>\n",
       "    </tr>\n",
       "  </tbody>\n",
       "</table>\n",
       "<p>20594 rows × 2 columns</p>\n",
       "</div>"
      ],
      "text/plain": [
       "      Licensed official_video\n",
       "0         TRUE           TRUE\n",
       "1         TRUE           TRUE\n",
       "2         TRUE           TRUE\n",
       "3         TRUE           TRUE\n",
       "4         TRUE           TRUE\n",
       "...        ...            ...\n",
       "20589     TRUE           TRUE\n",
       "20590     TRUE           TRUE\n",
       "20591     TRUE           TRUE\n",
       "20592     TRUE           TRUE\n",
       "20593     TRUE           TRUE\n",
       "\n",
       "[20594 rows x 2 columns]"
      ]
     },
     "execution_count": 10,
     "metadata": {},
     "output_type": "execute_result"
    }
   ],
   "source": [
    "# I will change the data type of 'Licensed','official_video', because the data type of these two features are in object but the actual values should be in Boolean type.\n",
    "df[['Licensed','official_video']]"
   ]
  },
  {
   "cell_type": "code",
   "execution_count": 11,
   "id": "4c912829-187d-4bc6-af4e-a3ba6b62e303",
   "metadata": {},
   "outputs": [],
   "source": [
    "# changing the data type\n",
    "df['Licensed'] = df['Licensed'].astype(bool)\n",
    "df['official_video'] = df['official_video'].astype(bool)"
   ]
  },
  {
   "cell_type": "code",
   "execution_count": 12,
   "id": "6ad207a2-b93a-48da-a04d-8d4b539108f9",
   "metadata": {},
   "outputs": [
    {
     "name": "stdout",
     "output_type": "stream",
     "text": [
      "bool\n",
      "bool\n"
     ]
    }
   ],
   "source": [
    "# print data type for changed ones.\n",
    "print(df[\"Licensed\"].dtype)\n",
    "print(df[\"official_video\"].dtype)"
   ]
  },
  {
   "cell_type": "code",
   "execution_count": 13,
   "id": "09220cc8-f170-4da3-a63c-8f13b180ecbb",
   "metadata": {},
   "outputs": [
    {
     "data": {
      "text/plain": [
       "Artist              0\n",
       "Track               0\n",
       "Album               0\n",
       "Album_type          0\n",
       "Danceability        0\n",
       "Energy              0\n",
       "Loudness            0\n",
       "Speechiness         0\n",
       "Acousticness        0\n",
       "Instrumentalness    0\n",
       "Liveness            0\n",
       "Valence             0\n",
       "Tempo               0\n",
       "Duration_min        0\n",
       "Title               0\n",
       "Channel             0\n",
       "Views               0\n",
       "Likes               0\n",
       "Comments            0\n",
       "Licensed            0\n",
       "official_video      0\n",
       "Stream              0\n",
       "EnergyLiveness      2\n",
       "most_playedon       0\n",
       "dtype: int64"
      ]
     },
     "execution_count": 13,
     "metadata": {},
     "output_type": "execute_result"
    }
   ],
   "source": [
    "# checking missing value if any.\n",
    "\n",
    "df.isnull().sum()"
   ]
  },
  {
   "cell_type": "markdown",
   "id": "cd28aeed-4e69-495b-9338-0971e46239ee",
   "metadata": {},
   "source": [
    "###### --> So Column name 'EnergyLiveness' have 2 null values.\n",
    "###### --> We can handle these missing values by deleting these 2 rows or mean/median.mode or a forward filling. \n",
    "###### --> I will not use fillna('missing', inplace = True).\n",
    "###### --> Because the missing values are very few, so I will delete these 2 rows to handle the missing values.\n",
    "###### --> I'll use dropna(inplace = True)"
   ]
  },
  {
   "cell_type": "code",
   "execution_count": 15,
   "id": "01d5667b-73a2-44a9-acac-9851ce01c1e6",
   "metadata": {},
   "outputs": [
    {
     "data": {
      "text/plain": [
       "Artist              0\n",
       "Track               0\n",
       "Album               0\n",
       "Album_type          0\n",
       "Danceability        0\n",
       "Energy              0\n",
       "Loudness            0\n",
       "Speechiness         0\n",
       "Acousticness        0\n",
       "Instrumentalness    0\n",
       "Liveness            0\n",
       "Valence             0\n",
       "Tempo               0\n",
       "Duration_min        0\n",
       "Title               0\n",
       "Channel             0\n",
       "Views               0\n",
       "Likes               0\n",
       "Comments            0\n",
       "Licensed            0\n",
       "official_video      0\n",
       "Stream              0\n",
       "EnergyLiveness      0\n",
       "most_playedon       0\n",
       "dtype: int64"
      ]
     },
     "execution_count": 15,
     "metadata": {},
     "output_type": "execute_result"
    }
   ],
   "source": [
    "# Delete the missing values\n",
    "\n",
    "df.dropna(inplace = True)\n",
    "df.isnull().sum()"
   ]
  },
  {
   "cell_type": "code",
   "execution_count": 16,
   "id": "7e243cac-92de-41c2-a291-163291350886",
   "metadata": {},
   "outputs": [
    {
     "data": {
      "text/plain": [
       "0"
      ]
     },
     "execution_count": 16,
     "metadata": {},
     "output_type": "execute_result"
    }
   ],
   "source": [
    "# Now checking for duplicate records if any.\n",
    "\n",
    "df.duplicated().sum()"
   ]
  },
  {
   "cell_type": "markdown",
   "id": "829b7ec9-05bd-4393-b49b-42f8761170b9",
   "metadata": {},
   "source": [
    "###### --> So I have checked above, there is no duplicate records in the dataset.\n",
    "###### --> If I supposed to have the duplicate records, then I definately delete them to make data consistent using df.drop_duplicates(inplace=True)."
   ]
  },
  {
   "cell_type": "code",
   "execution_count": 18,
   "id": "5e04e01b-840c-4294-84ca-e37f3c81bdac",
   "metadata": {
    "scrolled": true
   },
   "outputs": [
    {
     "data": {
      "text/html": [
       "<div>\n",
       "<style scoped>\n",
       "    .dataframe tbody tr th:only-of-type {\n",
       "        vertical-align: middle;\n",
       "    }\n",
       "\n",
       "    .dataframe tbody tr th {\n",
       "        vertical-align: top;\n",
       "    }\n",
       "\n",
       "    .dataframe thead th {\n",
       "        text-align: right;\n",
       "    }\n",
       "</style>\n",
       "<table border=\"1\" class=\"dataframe\">\n",
       "  <thead>\n",
       "    <tr style=\"text-align: right;\">\n",
       "      <th></th>\n",
       "      <th>Danceability</th>\n",
       "      <th>Energy</th>\n",
       "      <th>Loudness</th>\n",
       "      <th>Speechiness</th>\n",
       "      <th>Acousticness</th>\n",
       "      <th>Instrumentalness</th>\n",
       "      <th>Liveness</th>\n",
       "      <th>Valence</th>\n",
       "      <th>Tempo</th>\n",
       "      <th>Duration_min</th>\n",
       "      <th>Views</th>\n",
       "      <th>Likes</th>\n",
       "      <th>Comments</th>\n",
       "      <th>Stream</th>\n",
       "      <th>EnergyLiveness</th>\n",
       "    </tr>\n",
       "  </thead>\n",
       "  <tbody>\n",
       "    <tr>\n",
       "      <th>count</th>\n",
       "      <td>20592.000000</td>\n",
       "      <td>20592.000000</td>\n",
       "      <td>20592.000000</td>\n",
       "      <td>20592.000000</td>\n",
       "      <td>20592.000000</td>\n",
       "      <td>20592.000000</td>\n",
       "      <td>20592.000000</td>\n",
       "      <td>20592.000000</td>\n",
       "      <td>20592.000000</td>\n",
       "      <td>20592.000000</td>\n",
       "      <td>2.059200e+04</td>\n",
       "      <td>2.059200e+04</td>\n",
       "      <td>2.059200e+04</td>\n",
       "      <td>2.059200e+04</td>\n",
       "      <td>20592.000000</td>\n",
       "    </tr>\n",
       "    <tr>\n",
       "      <th>mean</th>\n",
       "      <td>0.620162</td>\n",
       "      <td>0.635238</td>\n",
       "      <td>-7.678999</td>\n",
       "      <td>0.096742</td>\n",
       "      <td>0.291419</td>\n",
       "      <td>0.056167</td>\n",
       "      <td>0.193672</td>\n",
       "      <td>0.530128</td>\n",
       "      <td>120.574326</td>\n",
       "      <td>3.742802</td>\n",
       "      <td>9.204529e+07</td>\n",
       "      <td>6.480451e+05</td>\n",
       "      <td>2.684902e+04</td>\n",
       "      <td>1.326451e+08</td>\n",
       "      <td>5.167227</td>\n",
       "    </tr>\n",
       "    <tr>\n",
       "      <th>std</th>\n",
       "      <td>0.165399</td>\n",
       "      <td>0.214193</td>\n",
       "      <td>4.639089</td>\n",
       "      <td>0.112183</td>\n",
       "      <td>0.286117</td>\n",
       "      <td>0.193630</td>\n",
       "      <td>0.168829</td>\n",
       "      <td>0.245499</td>\n",
       "      <td>29.565662</td>\n",
       "      <td>2.084986</td>\n",
       "      <td>2.726146e+08</td>\n",
       "      <td>1.773725e+06</td>\n",
       "      <td>1.911843e+05</td>\n",
       "      <td>2.423699e+08</td>\n",
       "      <td>4.117431</td>\n",
       "    </tr>\n",
       "    <tr>\n",
       "      <th>min</th>\n",
       "      <td>0.000000</td>\n",
       "      <td>0.000020</td>\n",
       "      <td>-46.251000</td>\n",
       "      <td>0.000000</td>\n",
       "      <td>0.000001</td>\n",
       "      <td>0.000000</td>\n",
       "      <td>0.014500</td>\n",
       "      <td>0.000000</td>\n",
       "      <td>0.000000</td>\n",
       "      <td>0.516417</td>\n",
       "      <td>0.000000e+00</td>\n",
       "      <td>0.000000e+00</td>\n",
       "      <td>0.000000e+00</td>\n",
       "      <td>0.000000e+00</td>\n",
       "      <td>0.000049</td>\n",
       "    </tr>\n",
       "    <tr>\n",
       "      <th>25%</th>\n",
       "      <td>0.519000</td>\n",
       "      <td>0.507000</td>\n",
       "      <td>-8.868250</td>\n",
       "      <td>0.035700</td>\n",
       "      <td>0.045200</td>\n",
       "      <td>0.000000</td>\n",
       "      <td>0.094100</td>\n",
       "      <td>0.340000</td>\n",
       "      <td>96.994750</td>\n",
       "      <td>2.997546</td>\n",
       "      <td>1.478416e+06</td>\n",
       "      <td>1.754600e+04</td>\n",
       "      <td>4.060000e+02</td>\n",
       "      <td>1.558757e+07</td>\n",
       "      <td>2.386190</td>\n",
       "    </tr>\n",
       "    <tr>\n",
       "      <th>50%</th>\n",
       "      <td>0.638000</td>\n",
       "      <td>0.666000</td>\n",
       "      <td>-6.541000</td>\n",
       "      <td>0.050700</td>\n",
       "      <td>0.193000</td>\n",
       "      <td>0.000002</td>\n",
       "      <td>0.125000</td>\n",
       "      <td>0.538000</td>\n",
       "      <td>119.959500</td>\n",
       "      <td>3.551433</td>\n",
       "      <td>1.331348e+07</td>\n",
       "      <td>1.153155e+05</td>\n",
       "      <td>3.006000e+03</td>\n",
       "      <td>4.730244e+07</td>\n",
       "      <td>4.256881</td>\n",
       "    </tr>\n",
       "    <tr>\n",
       "      <th>75%</th>\n",
       "      <td>0.741000</td>\n",
       "      <td>0.798000</td>\n",
       "      <td>-4.935000</td>\n",
       "      <td>0.104000</td>\n",
       "      <td>0.477000</td>\n",
       "      <td>0.000474</td>\n",
       "      <td>0.237000</td>\n",
       "      <td>0.727000</td>\n",
       "      <td>139.924500</td>\n",
       "      <td>4.202329</td>\n",
       "      <td>6.740061e+07</td>\n",
       "      <td>5.000950e+05</td>\n",
       "      <td>1.373900e+04</td>\n",
       "      <td>1.343384e+08</td>\n",
       "      <td>6.822034</td>\n",
       "    </tr>\n",
       "    <tr>\n",
       "      <th>max</th>\n",
       "      <td>0.975000</td>\n",
       "      <td>1.000000</td>\n",
       "      <td>0.920000</td>\n",
       "      <td>0.964000</td>\n",
       "      <td>0.996000</td>\n",
       "      <td>1.000000</td>\n",
       "      <td>1.000000</td>\n",
       "      <td>0.993000</td>\n",
       "      <td>243.372000</td>\n",
       "      <td>77.934300</td>\n",
       "      <td>8.079649e+09</td>\n",
       "      <td>5.078865e+07</td>\n",
       "      <td>1.608314e+07</td>\n",
       "      <td>3.386520e+09</td>\n",
       "      <td>59.113924</td>\n",
       "    </tr>\n",
       "  </tbody>\n",
       "</table>\n",
       "</div>"
      ],
      "text/plain": [
       "       Danceability        Energy      Loudness   Speechiness  Acousticness  \\\n",
       "count  20592.000000  20592.000000  20592.000000  20592.000000  20592.000000   \n",
       "mean       0.620162      0.635238     -7.678999      0.096742      0.291419   \n",
       "std        0.165399      0.214193      4.639089      0.112183      0.286117   \n",
       "min        0.000000      0.000020    -46.251000      0.000000      0.000001   \n",
       "25%        0.519000      0.507000     -8.868250      0.035700      0.045200   \n",
       "50%        0.638000      0.666000     -6.541000      0.050700      0.193000   \n",
       "75%        0.741000      0.798000     -4.935000      0.104000      0.477000   \n",
       "max        0.975000      1.000000      0.920000      0.964000      0.996000   \n",
       "\n",
       "       Instrumentalness      Liveness       Valence         Tempo  \\\n",
       "count      20592.000000  20592.000000  20592.000000  20592.000000   \n",
       "mean           0.056167      0.193672      0.530128    120.574326   \n",
       "std            0.193630      0.168829      0.245499     29.565662   \n",
       "min            0.000000      0.014500      0.000000      0.000000   \n",
       "25%            0.000000      0.094100      0.340000     96.994750   \n",
       "50%            0.000002      0.125000      0.538000    119.959500   \n",
       "75%            0.000474      0.237000      0.727000    139.924500   \n",
       "max            1.000000      1.000000      0.993000    243.372000   \n",
       "\n",
       "       Duration_min         Views         Likes      Comments        Stream  \\\n",
       "count  20592.000000  2.059200e+04  2.059200e+04  2.059200e+04  2.059200e+04   \n",
       "mean       3.742802  9.204529e+07  6.480451e+05  2.684902e+04  1.326451e+08   \n",
       "std        2.084986  2.726146e+08  1.773725e+06  1.911843e+05  2.423699e+08   \n",
       "min        0.516417  0.000000e+00  0.000000e+00  0.000000e+00  0.000000e+00   \n",
       "25%        2.997546  1.478416e+06  1.754600e+04  4.060000e+02  1.558757e+07   \n",
       "50%        3.551433  1.331348e+07  1.153155e+05  3.006000e+03  4.730244e+07   \n",
       "75%        4.202329  6.740061e+07  5.000950e+05  1.373900e+04  1.343384e+08   \n",
       "max       77.934300  8.079649e+09  5.078865e+07  1.608314e+07  3.386520e+09   \n",
       "\n",
       "       EnergyLiveness  \n",
       "count    20592.000000  \n",
       "mean         5.167227  \n",
       "std          4.117431  \n",
       "min          0.000049  \n",
       "25%          2.386190  \n",
       "50%          4.256881  \n",
       "75%          6.822034  \n",
       "max         59.113924  "
      ]
     },
     "execution_count": 18,
     "metadata": {},
     "output_type": "execute_result"
    }
   ],
   "source": [
    "# some statistical measures : \n",
    "# here it only consists the numerical features not categorical.\n",
    "df.describe() "
   ]
  },
  {
   "cell_type": "markdown",
   "id": "2f77f66e-07fb-4e54-b9e4-e5a541ea705a",
   "metadata": {},
   "source": [
    "### A. Audio Features Analysis, Based on Statistical Measures:\n",
    "#### --> 1. Audio: \n",
    "                a. Most songs have a moderate to high danceability score (~62%).\n",
    "                b. min = 0.0000, shows that there are some songs which have 0 danceability.\n",
    "                c. 75% = 0.741000, shows that the top 25% of songs have a danceability score above 0.74, means highly danceable tracks.\n",
    "#### --> 2. Energy :\n",
    "                a. 25% of the songs have an energy score ≤ 0.507 (low-energy music). energy score more than 0.50 comes for high energetic music.\n",
    "                b. 75% of the songs have an energy level between 0.507 and 1.00.(High energy music).\n",
    "                c. so spotify have 75% of the songs of high energy level which is more than 0.507.\n",
    "                d. min = 0.000020, shows that some songs have very low energy level. (May be aliens sing those song, Ha!, like me.)\n",
    "#### --> 3. Loudness(dB):\n",
    "                a. The top 25% of songs have a loudness above -4.93.\n",
    "                b. mean = -7.678999, Range = -46.25 to 0.92. shows mix of soft and loud music.\n",
    "                c. min = -46.251000 is very far from the 75% percentile = -4.935000, and max = 0.920000 is very near to 75th percentile, \n",
    "                        show most songs in dataset are loud. and mean = -7.678999 is also nearer to max. where min = -46.251000(seems outlier).\n",
    "#### --> 4. Speechiness(may be rap songs or audiobooks):\n",
    "                a. Most songs have low speechiness. beacuse mean =  0.096742 is near to 0.0000 and far from 75% = 0.104000.\n",
    "                b. the 75th percentile value is 0.104, shows that the majority of songs have very little speech-like songs.\n",
    "                c. some tracks here are almost entirely spoken because max = 0.964000.\n",
    "#### --> 5. Acousticness (Mean = 0.291419, Range = 0.00 - 0.99):\n",
    "                a. acaustic meaning: (of popular music or musical instruments) not having electrical amplification.\n",
    "                b. mean = 0.291419 shows that mostly songs are electrically amplified rather than purely acaustic.\n",
    "                c. 75% = 0.477000 means that more that 75 percentage of songs are not that much of acaustic as below 25% = 0.045200. so mostly are electrically amplified songs.\n",
    "#### --> 6. Instrumentalness: (to understand: songs either have instruments or vocal or both)\n",
    "                a. 50% = 0.000002, many songs have very low instrumentalness, which meaning having vocals in songs.\n",
    "                b. max = 1.000000, some songs are completely instrumental based.\n",
    "#### --> 7. Liveness: (having live performance, experience of liveness.)\n",
    "                a. some high-liveness tracks (1.00) might be fully live performances, perhaps live concerts.\n",
    "                b. mean = 0.193672, 25% = 0.094100, 50% = 0.125000, 75% = 0.237000\n",
    "                c. meadian (50%) = 0.1250 is not much high, than mean = 193672, shows not much songs are live performance because of low value of meadian.\n",
    "                d. 25% = 0.094100 show 25% of the song have very low liveness shows may be no live performance, or very low. purely and properly studio records.\n",
    "                e. Only 25% of songs gives the liveness value above 0.237. these kind of songs may have included the live performances.\n",
    "                f. Can I say that to listen live performance music are not that much desirable on music app like spotify here.\n",
    "#### --> 8. Valence: (meaning : describes the musical positivity conveyed by a piece of music. Songs with high valence sound more positive(e.g. happy, cheerful). low valance = sad(melancholic songs)) \n",
    "                a.  mean = 0.530128, 50% = 0.538000(almost half of max = 993000), min = 0.000000, max = 0.993000, seems a balance because of mean.\n",
    "#### --> 9. Tempo: (meaning: Tempo is the speed of a given piece of music. It is most commonly measured by the number of beats that occur in a minute known as beats per minute (BPM).)\n",
    "                a. Some songs have very high tempos 243.372000 BPM. may be electrically amplified music. Extremely Fast like Electronic dance music (EDM).\n",
    "                b. mean = 120.574326 BPM. 50% = 119.959500.\n",
    "                c. ambient music may have the tempo close to min = 0.000000."
   ]
  },
  {
   "cell_type": "code",
   "execution_count": 20,
   "id": "f6da7a7c-6a9f-4567-8d65-52ce3c9d0c57",
   "metadata": {},
   "outputs": [
    {
     "data": {
      "text/html": [
       "<div>\n",
       "<style scoped>\n",
       "    .dataframe tbody tr th:only-of-type {\n",
       "        vertical-align: middle;\n",
       "    }\n",
       "\n",
       "    .dataframe tbody tr th {\n",
       "        vertical-align: top;\n",
       "    }\n",
       "\n",
       "    .dataframe thead th {\n",
       "        text-align: right;\n",
       "    }\n",
       "</style>\n",
       "<table border=\"1\" class=\"dataframe\">\n",
       "  <thead>\n",
       "    <tr style=\"text-align: right;\">\n",
       "      <th></th>\n",
       "      <th>Danceability</th>\n",
       "      <th>Energy</th>\n",
       "      <th>Loudness</th>\n",
       "      <th>Speechiness</th>\n",
       "      <th>Acousticness</th>\n",
       "      <th>Instrumentalness</th>\n",
       "      <th>Liveness</th>\n",
       "      <th>Valence</th>\n",
       "      <th>Tempo</th>\n",
       "      <th>Duration_min</th>\n",
       "      <th>Views</th>\n",
       "      <th>Likes</th>\n",
       "      <th>Comments</th>\n",
       "      <th>Stream</th>\n",
       "      <th>EnergyLiveness</th>\n",
       "    </tr>\n",
       "  </thead>\n",
       "  <tbody>\n",
       "    <tr>\n",
       "      <th>count</th>\n",
       "      <td>20,592</td>\n",
       "      <td>20,592</td>\n",
       "      <td>20,592</td>\n",
       "      <td>20,592</td>\n",
       "      <td>20,592</td>\n",
       "      <td>20,592</td>\n",
       "      <td>20,592</td>\n",
       "      <td>20,592</td>\n",
       "      <td>20,592</td>\n",
       "      <td>20,592</td>\n",
       "      <td>20,592</td>\n",
       "      <td>20,592</td>\n",
       "      <td>20,592</td>\n",
       "      <td>20,592</td>\n",
       "      <td>20,592</td>\n",
       "    </tr>\n",
       "    <tr>\n",
       "      <th>mean</th>\n",
       "      <td>1</td>\n",
       "      <td>1</td>\n",
       "      <td>-8</td>\n",
       "      <td>0</td>\n",
       "      <td>0</td>\n",
       "      <td>0</td>\n",
       "      <td>0</td>\n",
       "      <td>1</td>\n",
       "      <td>121</td>\n",
       "      <td>4</td>\n",
       "      <td>92,045,291</td>\n",
       "      <td>648,045</td>\n",
       "      <td>26,849</td>\n",
       "      <td>132,645,068</td>\n",
       "      <td>5</td>\n",
       "    </tr>\n",
       "    <tr>\n",
       "      <th>std</th>\n",
       "      <td>0</td>\n",
       "      <td>0</td>\n",
       "      <td>5</td>\n",
       "      <td>0</td>\n",
       "      <td>0</td>\n",
       "      <td>0</td>\n",
       "      <td>0</td>\n",
       "      <td>0</td>\n",
       "      <td>30</td>\n",
       "      <td>2</td>\n",
       "      <td>272,614,628</td>\n",
       "      <td>1,773,725</td>\n",
       "      <td>191,184</td>\n",
       "      <td>242,369,943</td>\n",
       "      <td>4</td>\n",
       "    </tr>\n",
       "    <tr>\n",
       "      <th>min</th>\n",
       "      <td>0</td>\n",
       "      <td>0</td>\n",
       "      <td>-46</td>\n",
       "      <td>0</td>\n",
       "      <td>0</td>\n",
       "      <td>0</td>\n",
       "      <td>0</td>\n",
       "      <td>0</td>\n",
       "      <td>0</td>\n",
       "      <td>1</td>\n",
       "      <td>0</td>\n",
       "      <td>0</td>\n",
       "      <td>0</td>\n",
       "      <td>0</td>\n",
       "      <td>0</td>\n",
       "    </tr>\n",
       "    <tr>\n",
       "      <th>25%</th>\n",
       "      <td>1</td>\n",
       "      <td>1</td>\n",
       "      <td>-9</td>\n",
       "      <td>0</td>\n",
       "      <td>0</td>\n",
       "      <td>0</td>\n",
       "      <td>0</td>\n",
       "      <td>0</td>\n",
       "      <td>97</td>\n",
       "      <td>3</td>\n",
       "      <td>1,478,416</td>\n",
       "      <td>17,546</td>\n",
       "      <td>406</td>\n",
       "      <td>15,587,569</td>\n",
       "      <td>2</td>\n",
       "    </tr>\n",
       "    <tr>\n",
       "      <th>50%</th>\n",
       "      <td>1</td>\n",
       "      <td>1</td>\n",
       "      <td>-7</td>\n",
       "      <td>0</td>\n",
       "      <td>0</td>\n",
       "      <td>0</td>\n",
       "      <td>0</td>\n",
       "      <td>1</td>\n",
       "      <td>120</td>\n",
       "      <td>4</td>\n",
       "      <td>13,313,480</td>\n",
       "      <td>115,316</td>\n",
       "      <td>3,006</td>\n",
       "      <td>47,302,445</td>\n",
       "      <td>4</td>\n",
       "    </tr>\n",
       "    <tr>\n",
       "      <th>75%</th>\n",
       "      <td>1</td>\n",
       "      <td>1</td>\n",
       "      <td>-5</td>\n",
       "      <td>0</td>\n",
       "      <td>0</td>\n",
       "      <td>0</td>\n",
       "      <td>0</td>\n",
       "      <td>1</td>\n",
       "      <td>140</td>\n",
       "      <td>4</td>\n",
       "      <td>67,400,608</td>\n",
       "      <td>500,095</td>\n",
       "      <td>13,739</td>\n",
       "      <td>134,338,408</td>\n",
       "      <td>7</td>\n",
       "    </tr>\n",
       "    <tr>\n",
       "      <th>max</th>\n",
       "      <td>1</td>\n",
       "      <td>1</td>\n",
       "      <td>1</td>\n",
       "      <td>1</td>\n",
       "      <td>1</td>\n",
       "      <td>1</td>\n",
       "      <td>1</td>\n",
       "      <td>1</td>\n",
       "      <td>243</td>\n",
       "      <td>78</td>\n",
       "      <td>8,079,649,362</td>\n",
       "      <td>50,788,652</td>\n",
       "      <td>16,083,138</td>\n",
       "      <td>3,386,520,288</td>\n",
       "      <td>59</td>\n",
       "    </tr>\n",
       "  </tbody>\n",
       "</table>\n",
       "</div>"
      ],
      "text/plain": [
       "       Danceability  Energy  Loudness  Speechiness  Acousticness  \\\n",
       "count        20,592  20,592    20,592       20,592        20,592   \n",
       "mean              1       1        -8            0             0   \n",
       "std               0       0         5            0             0   \n",
       "min               0       0       -46            0             0   \n",
       "25%               1       1        -9            0             0   \n",
       "50%               1       1        -7            0             0   \n",
       "75%               1       1        -5            0             0   \n",
       "max               1       1         1            1             1   \n",
       "\n",
       "       Instrumentalness  Liveness  Valence  Tempo  Duration_min         Views  \\\n",
       "count            20,592    20,592   20,592 20,592        20,592        20,592   \n",
       "mean                  0         0        1    121             4    92,045,291   \n",
       "std                   0         0        0     30             2   272,614,628   \n",
       "min                   0         0        0      0             1             0   \n",
       "25%                   0         0        0     97             3     1,478,416   \n",
       "50%                   0         0        1    120             4    13,313,480   \n",
       "75%                   0         0        1    140             4    67,400,608   \n",
       "max                   1         1        1    243            78 8,079,649,362   \n",
       "\n",
       "           Likes   Comments        Stream  EnergyLiveness  \n",
       "count     20,592     20,592        20,592          20,592  \n",
       "mean     648,045     26,849   132,645,068               5  \n",
       "std    1,773,725    191,184   242,369,943               4  \n",
       "min            0          0             0               0  \n",
       "25%       17,546        406    15,587,569               2  \n",
       "50%      115,316      3,006    47,302,445               4  \n",
       "75%      500,095     13,739   134,338,408               7  \n",
       "max   50,788,652 16,083,138 3,386,520,288              59  "
      ]
     },
     "execution_count": 20,
     "metadata": {},
     "output_type": "execute_result"
    }
   ],
   "source": [
    "### A. Audio Features Analysis:[ABOVE]\n",
    "### B.Popularity & Engagement Analysis:[BELOW]\n",
    "\n",
    "# Change display format to show full numbers\n",
    "pd.options.display.float_format = '{:,.0f}'.format  # No decimal places, with commas\n",
    "\n",
    "# above code helped me to convert view and likes into proper number formate.\n",
    "df.describe()"
   ]
  },
  {
   "cell_type": "markdown",
   "id": "ac05c105-0266-4a44-9f19-b0f2c588f564",
   "metadata": {},
   "source": [
    "### B.Popuarity & Engagement analysis:\n",
    "###### --> 1. Views:\n",
    "                a. The value 6.740061e+07 in scientific notation means: (6.740061 × 10^7 = 67,400,610). So, the 75th percentile of views is approximately 67.4 million views.\n",
    "                b. The top 25% of songs have more than 67M views because of 75% = 67,400,608\n",
    "                c. There are some of the songs which does not have a single view. May be new released.\n",
    "                d. More than 75% of the songs have more than 1 million views.\n",
    "###### --> 2. Likes:\n",
    "                a. Meadian(50%) = 115,316 likes, max = 50,788,652 likes, shows outlier, may be because of viral or popular songs. max views > 8 million.\t\n",
    "###### --> 3. Comments: \n",
    "                a. max = 16,083,138. some songs having very high engagement => 16 Million comments.\n",
    "###### --> 4. Streams: \n",
    "                a. Popular tracks have billions of streams.\n",
    "###### --> 5. EnergyLiveness Feature: combination of energetic and live-performance\n",
    "                a. some songs are both very lively and high-energy, live rock concerts perhaps."
   ]
  },
  {
   "cell_type": "code",
   "execution_count": 22,
   "id": "34a1db08-ddca-4f6c-88a2-edce0cbe0855",
   "metadata": {},
   "outputs": [
    {
     "data": {
      "text/html": [
       "<div>\n",
       "<style scoped>\n",
       "    .dataframe tbody tr th:only-of-type {\n",
       "        vertical-align: middle;\n",
       "    }\n",
       "\n",
       "    .dataframe tbody tr th {\n",
       "        vertical-align: top;\n",
       "    }\n",
       "\n",
       "    .dataframe thead th {\n",
       "        text-align: right;\n",
       "    }\n",
       "</style>\n",
       "<table border=\"1\" class=\"dataframe\">\n",
       "  <thead>\n",
       "    <tr style=\"text-align: right;\">\n",
       "      <th></th>\n",
       "      <th>Artist</th>\n",
       "      <th>Track</th>\n",
       "      <th>Album</th>\n",
       "      <th>Album_type</th>\n",
       "      <th>Title</th>\n",
       "      <th>Channel</th>\n",
       "      <th>most_playedon</th>\n",
       "    </tr>\n",
       "  </thead>\n",
       "  <tbody>\n",
       "    <tr>\n",
       "      <th>count</th>\n",
       "      <td>20592</td>\n",
       "      <td>20592</td>\n",
       "      <td>20592</td>\n",
       "      <td>20592</td>\n",
       "      <td>20592</td>\n",
       "      <td>20592</td>\n",
       "      <td>20592</td>\n",
       "    </tr>\n",
       "    <tr>\n",
       "      <th>unique</th>\n",
       "      <td>2074</td>\n",
       "      <td>17715</td>\n",
       "      <td>11853</td>\n",
       "      <td>3</td>\n",
       "      <td>18022</td>\n",
       "      <td>6673</td>\n",
       "      <td>2</td>\n",
       "    </tr>\n",
       "    <tr>\n",
       "      <th>top</th>\n",
       "      <td>Gorillaz</td>\n",
       "      <td>El Ultimo Adiós - Varios Artistas Version</td>\n",
       "      <td>Greatest Hits</td>\n",
       "      <td>album</td>\n",
       "      <td>0</td>\n",
       "      <td>0</td>\n",
       "      <td>Spotify</td>\n",
       "    </tr>\n",
       "    <tr>\n",
       "      <th>freq</th>\n",
       "      <td>10</td>\n",
       "      <td>24</td>\n",
       "      <td>30</td>\n",
       "      <td>14832</td>\n",
       "      <td>468</td>\n",
       "      <td>468</td>\n",
       "      <td>15692</td>\n",
       "    </tr>\n",
       "  </tbody>\n",
       "</table>\n",
       "</div>"
      ],
      "text/plain": [
       "          Artist                                      Track          Album  \\\n",
       "count      20592                                      20592          20592   \n",
       "unique      2074                                      17715          11853   \n",
       "top     Gorillaz  El Ultimo Adiós - Varios Artistas Version  Greatest Hits   \n",
       "freq          10                                         24             30   \n",
       "\n",
       "       Album_type  Title Channel most_playedon  \n",
       "count       20592  20592   20592         20592  \n",
       "unique          3  18022    6673             2  \n",
       "top         album      0       0       Spotify  \n",
       "freq        14832    468     468         15692  "
      ]
     },
     "execution_count": 22,
     "metadata": {},
     "output_type": "execute_result"
    }
   ],
   "source": [
    "# Now here is the statistical measures for categorical features also, which have data type, called object data type.\n",
    "df.describe(include = ['O'])"
   ]
  },
  {
   "cell_type": "markdown",
   "id": "10e31e3d-b42f-4890-816c-f6fe505396fc",
   "metadata": {},
   "source": []
  },
  {
   "cell_type": "code",
   "execution_count": 24,
   "id": "2b4f9621-bb92-493e-9e0f-b3acb1c16480",
   "metadata": {},
   "outputs": [
    {
     "data": {
      "text/plain": [
       "20592"
      ]
     },
     "execution_count": 24,
     "metadata": {},
     "output_type": "execute_result"
    }
   ],
   "source": [
    "# How many records are present in the dataset?\n",
    "df.shape[0] # here using the shape attribute of a Pandas dataframe and check the number of rows by using index 0."
   ]
  },
  {
   "cell_type": "markdown",
   "id": "55d554c0-af4a-4f5f-addf-50f073583466",
   "metadata": {},
   "source": [
    "##### As we can see, there are 20594 records in the dataset."
   ]
  },
  {
   "cell_type": "code",
   "execution_count": 26,
   "id": "fd236584-c5b3-457a-8791-317cdb0bbb17",
   "metadata": {},
   "outputs": [
    {
     "data": {
      "text/plain": [
       "Index(['Artist', 'Track', 'Album', 'Album_type', 'Danceability', 'Energy',\n",
       "       'Loudness', 'Speechiness', 'Acousticness', 'Instrumentalness',\n",
       "       'Liveness', 'Valence', 'Tempo', 'Duration_min', 'Title', 'Channel',\n",
       "       'Views', 'Likes', 'Comments', 'Licensed', 'official_video', 'Stream',\n",
       "       'EnergyLiveness', 'most_playedon'],\n",
       "      dtype='object')"
      ]
     },
     "execution_count": 26,
     "metadata": {},
     "output_type": "execute_result"
    }
   ],
   "source": [
    "df.columns"
   ]
  },
  {
   "cell_type": "markdown",
   "id": "cca6b356-15f3-422c-a458-507ab9e1908a",
   "metadata": {},
   "source": [
    "# Problems to solve"
   ]
  },
  {
   "cell_type": "markdown",
   "id": "b5bb7b44-06b5-427c-9c23-e787d671af6a",
   "metadata": {},
   "source": [
    "#### Q.1 What is the average danceability, energy, and loudness of all tracks in the dataset?"
   ]
  },
  {
   "cell_type": "code",
   "execution_count": 29,
   "id": "9464a02e-dc18-48bf-8bef-8cefc003e0b4",
   "metadata": {},
   "outputs": [
    {
     "name": "stdout",
     "output_type": "stream",
     "text": [
      "avg_danceability: 0.6201620386557887\n",
      "avg_energy: 0.6352377639034578\n",
      "avg_loudness: -7.678999417249417\n"
     ]
    }
   ],
   "source": [
    "# average danceability, energy, and loudness \n",
    "\n",
    "avg_danceability  = df['Danceability'].mean() \n",
    "avg_energy = df['Energy'].mean()\n",
    "avg_loudness = df['Loudness'].mean()\n",
    "\n",
    "print(f'avg_danceability: {avg_danceability}')\n",
    "print(f'avg_energy: {avg_energy}')\n",
    "print(f'avg_loudness: {avg_loudness}')"
   ]
  },
  {
   "cell_type": "markdown",
   "id": "ea7f710c-3676-4a39-9f88-a9c3bb0bbe97",
   "metadata": {},
   "source": [
    "As we can see the average values of the three feature: Danceability, Energy, and Loudness"
   ]
  },
  {
   "cell_type": "markdown",
   "id": "706f1404-c055-49d5-9f66-5ad18c846702",
   "metadata": {},
   "source": [
    "#### Q.2 What is the distribution of track durations (in minutes)? Are most tracks short or long?"
   ]
  },
  {
   "cell_type": "code",
   "execution_count": 32,
   "id": "6c72f91d-3f73-4ca9-9113-d31f8c3376ec",
   "metadata": {},
   "outputs": [
    {
     "name": "stdout",
     "output_type": "stream",
     "text": [
      "The mean duration is: 3.74\n",
      "The median duration is: 3.55\n",
      "The minimum duration is: 0.52\n",
      "The maximum duration is: 77.93\n",
      "The shortest track is 0.52 minutes\n",
      "The longest track is 77.93 minutes\n",
      "Mode of Track Duration: 3.96 minutes\n"
     ]
    }
   ],
   "source": [
    "# we have to look into Duration_min feature, and we have to find the mean, median, min, and max distribution.\n",
    "# Duration_min : feature is already in minutes.\n",
    "\n",
    "mean_duration = df['Duration_min'].mean() # mean_distribution\n",
    "median_duration = df['Duration_min'].median()\n",
    "min_duration = df['Duration_min'].min()\n",
    "max_duration = df['Duration_min'].max()\n",
    "\n",
    "print(f'The mean duration is: {mean_duration:.2f}')\n",
    "print(f'The median duration is: {median_duration:.2f}')\n",
    "print(f'The minimum duration is: {min_duration:.2f}')\n",
    "print(f'The maximum duration is: {max_duration:.2f}')\n",
    "\n",
    "# so\n",
    "print(f'The shortest track is {min_duration:.2f} minutes')\n",
    "print(f'The longest track is {max_duration:.2f} minutes')\n",
    "\n",
    "mode_duration = df[\"Duration_min\"].mode()[0]\n",
    "print(f\"Mode of Track Duration: {mode_duration:.2f} minutes\")"
   ]
  },
  {
   "cell_type": "markdown",
   "id": "5b63393a-543a-4a5e-b6b5-af1569f5d2ec",
   "metadata": {},
   "source": [
    "##### As we can see the distribution of track duration using some statistics above."
   ]
  },
  {
   "cell_type": "code",
   "execution_count": 34,
   "id": "a9008172-40b4-412e-9502-14a55381ceee",
   "metadata": {},
   "outputs": [
    {
     "name": "stdout",
     "output_type": "stream",
     "text": [
      "Most tracks are balanced.\n"
     ]
    }
   ],
   "source": [
    "# now let's solve this part: Are most tracks short or long?\n",
    "# we have mode = 3.96 minutes, and mean = 3.7424, adn median = 3.55. so if I assume 3 minutes is the threshold to declare a song short or long.\n",
    "# i am using 3 minutes because it is close to median and using median would be better to handle the case.\n",
    "# here using conditionals should be good.\n",
    "\n",
    "if median_duration < 3:\n",
    "    print('Most songs are short (based on median)')\n",
    "elif median_duration > 4:\n",
    "    print('Most songs are long (based on median)')\n",
    "else:\n",
    "    print('Most tracks are balanced.')"
   ]
  },
  {
   "cell_type": "markdown",
   "id": "b57005ac-63f1-41dc-b604-4289267d3982",
   "metadata": {},
   "source": [
    "##### As we can see in our dataset most songs are in balance if we talk about the track duration: neither very short nor very long."
   ]
  },
  {
   "cell_type": "markdown",
   "id": "f39f35c0-458a-4840-a41f-c5dd63a46101",
   "metadata": {},
   "source": [
    "### Q.3 Which artist has the most tracks in the dataset?"
   ]
  },
  {
   "cell_type": "code",
   "execution_count": 37,
   "id": "943235dd-5bb3-405a-968c-448ebd302ef2",
   "metadata": {},
   "outputs": [
    {
     "name": "stdout",
     "output_type": "stream",
     "text": [
      "Gorillaz\n",
      "10\n"
     ]
    }
   ],
   "source": [
    "# there is another fnc to use called nlargest(1) instead of idx max() to select the top one.\n",
    "top_artist = df['Artist'].value_counts().idxmax()\n",
    "total_songs = df['Artist'].value_counts().max()\n",
    "\n",
    "print(top_artist)\n",
    "print(total_songs)"
   ]
  },
  {
   "cell_type": "markdown",
   "id": "bb945b3e-d989-47ac-820d-339f20fa713f",
   "metadata": {},
   "source": [
    "##### As we can see here that in our dataset, the top artist name is Gorillaz and The total songs showing 10."
   ]
  },
  {
   "cell_type": "markdown",
   "id": "46aeac82-1526-4565-9745-d9a74007f858",
   "metadata": {},
   "source": [
    "### Q.4 Which track has the highest number of streams, views, likes, and comments?"
   ]
  },
  {
   "cell_type": "code",
   "execution_count": 40,
   "id": "72f7e57e-5114-4c3c-aee8-3de2daccd18e",
   "metadata": {},
   "outputs": [
    {
     "name": "stdout",
     "output_type": "stream",
     "text": [
      "max_streams: 576\n",
      "max_views: 469\n",
      "max_likes: 556\n",
      "max_comments: 1064\n"
     ]
    }
   ],
   "source": [
    "max_streams = df['Stream'].value_counts().max()  #.value_counts() --> Counts occurrences of each unique stream value in colmn.\n",
    "max_views = df['Views'].value_counts().max()     #.max() ---  highest count from the value counts.\n",
    "max_likes = df['Likes'].value_counts().max()\n",
    "max_comments = df['Comments'].value_counts().max()\n",
    "\n",
    "print(f'max_streams: {max_streams}')\n",
    "print(f'max_views: {max_views}')\n",
    "print(f'max_likes: {max_likes}')\n",
    "print(f'max_comments: {max_comments}')\n",
    "\n",
    "# Here we can see the  highest frequency of a single (streams, views, likes, and comments) count.  highest frequency of any single stream count.\n",
    "# But have also find the specific track or song which have the highest of these 4 features."
   ]
  },
  {
   "cell_type": "code",
   "execution_count": 41,
   "id": "b3f3d440-ae3d-4500-922b-b2931006176b",
   "metadata": {},
   "outputs": [
    {
     "name": "stdout",
     "output_type": "stream",
     "text": [
      "top_streams_song: Blinding Lights\n",
      "top_views_song: Despacito\n",
      "top_likes_song: Despacito\n",
      "top_comments_song: Dynamite\n"
     ]
    }
   ],
   "source": [
    "# Now I will find the  Top song for each columns(streams, views, likes, and comments)\n",
    "top_streams_song = df.loc[df['Stream'].idxmax(), 'Track'] # i am not using here value_counts() because it will give most frequent one, not most number of streams\n",
    "top_views_song = df.loc[df['Views'].idxmax(), 'Track']\n",
    "top_likes_song = df.loc[df['Likes'].idxmax(), 'Track']\n",
    "top_comments_song = df.loc[df['Comments'].idxmax(), 'Track']\n",
    "\n",
    "print(f'top_streams_song: {top_streams_song}')\n",
    "print(f'top_views_song: {top_views_song}')\n",
    "print(f'top_likes_song: {top_likes_song}')\n",
    "print(f'top_comments_song: {top_comments_song}')"
   ]
  },
  {
   "cell_type": "markdown",
   "id": "893d6785-786c-4ea2-8059-fae6851f2093",
   "metadata": {},
   "source": [
    "##### So above I have printed the names of the top song from each column(streams, views, likes, and comments)\n",
    "##### As we can see from above result that there is no specific top_song_name which comes with highest numbers under all 4 columns(streams, views, likes, and comments)"
   ]
  },
  {
   "cell_type": "markdown",
   "id": "70ac6453-961f-4140-889e-72d1912ca39c",
   "metadata": {},
   "source": [
    "### Q.5 What is the average number of streams, views, likes, and comments?"
   ]
  },
  {
   "cell_type": "code",
   "execution_count": 44,
   "id": "7ac881d5-13b1-4f55-afa1-4f30e6641ff2",
   "metadata": {},
   "outputs": [
    {
     "name": "stdout",
     "output_type": "stream",
     "text": [
      "Avg Streams: 132645068.35, Avg Views: 92045291.10, Avg Likes: 648045.07, Avg Comments: 26849.02\n"
     ]
    }
   ],
   "source": [
    "avg_streams = df['Stream'].mean()\n",
    "avg_views = df['Views'].mean()\n",
    "avg_likes = df['Likes'].mean()\n",
    "avg_comments = df['Comments'].mean()\n",
    "\n",
    "print(f\"Avg Streams: {avg_streams:.2f}, Avg Views: {avg_views:.2f}, Avg Likes: {avg_likes:.2f}, Avg Comments: {avg_comments:.2f}\")"
   ]
  },
  {
   "cell_type": "markdown",
   "id": "158fcb5a-6703-43a1-bbe6-9f5471fde28c",
   "metadata": {},
   "source": [
    "##### As we can see, above are the average number for streams, views, likes, and comments."
   ]
  },
  {
   "cell_type": "markdown",
   "id": "18b59834-3937-4956-882c-5f80b8afcefc",
   "metadata": {},
   "source": [
    "### Q.6 How many tracks are singles, and how many are part of an album?"
   ]
  },
  {
   "cell_type": "code",
   "execution_count": 47,
   "id": "b74d6a06-1ef3-4aff-83fa-70844f8a277e",
   "metadata": {},
   "outputs": [
    {
     "name": "stdout",
     "output_type": "stream",
     "text": [
      "Album_type\n",
      "album          14832\n",
      "single          4973\n",
      "compilation      787\n",
      "Name: count, dtype: int64\n"
     ]
    }
   ],
   "source": [
    "single_tracks = df['Album_type'].value_counts()\n",
    "print(single_tracks)"
   ]
  },
  {
   "cell_type": "markdown",
   "id": "b0d2a0d3-3a5c-47fa-aab3-19e535e1b154",
   "metadata": {},
   "source": [
    "##### Above we can see the value count of Album and Single category song.\n",
    "##### Album tracks are -- 14832 , Single tracks are --  4973"
   ]
  },
  {
   "cell_type": "markdown",
   "id": "8b612d31-3f0d-4d31-b5c0-353c1bd5193f",
   "metadata": {},
   "source": [
    "### Q.7 Which album has the most tracks in the dataset?"
   ]
  },
  {
   "cell_type": "code",
   "execution_count": 50,
   "id": "e83c59cc-85c4-4ea4-bf7e-ead21647a2e0",
   "metadata": {},
   "outputs": [
    {
     "name": "stdout",
     "output_type": "stream",
     "text": [
      "top_album:  Greatest Hits\n",
      "top_album_count:  30\n"
     ]
    }
   ],
   "source": [
    "count_of_album = df['Album'].value_counts()\n",
    "top_album = count_of_album.idxmax()  # Get album with the most tracks\n",
    "top_album_count = count_of_album.max()  # Get count of the most frequent album\n",
    "\n",
    "print(\"top_album: \", top_album)\n",
    "print(\"top_album_count: \", top_album_count)"
   ]
  },
  {
   "cell_type": "markdown",
   "id": "a1985218-701a-4fc0-894c-560673bb91e6",
   "metadata": {},
   "source": [
    "##### Now we can see here that the album which has the most tracks is 'Greatest Hits' having 30 songs."
   ]
  },
  {
   "cell_type": "markdown",
   "id": "1adb20cf-f0d4-45f9-bfc6-e991f66ec474",
   "metadata": {},
   "source": [
    "### Q.8 What is the average tempo (BPM) of tracks in the dataset?"
   ]
  },
  {
   "cell_type": "code",
   "execution_count": 53,
   "id": "5e8d398a-7b4f-4c55-a8eb-e8868df8e1af",
   "metadata": {},
   "outputs": [
    {
     "name": "stdout",
     "output_type": "stream",
     "text": [
      "120.57432604895104\n"
     ]
    }
   ],
   "source": [
    "avg_tempo = df['Tempo'].mean()\n",
    "\n",
    "print(avg_tempo)"
   ]
  },
  {
   "cell_type": "markdown",
   "id": "b691e95e-628a-4cb5-a91c-835eb6268c8a",
   "metadata": {},
   "source": [
    "##### SO the average tempo in BPM is 120.57432604895104."
   ]
  },
  {
   "cell_type": "markdown",
   "id": "c2eaa449-602c-447b-9bdc-be5087728731",
   "metadata": {},
   "source": [
    "### Q.9 What percentage of tracks are licensed?"
   ]
  },
  {
   "cell_type": "code",
   "execution_count": 56,
   "id": "d51abe98-72f1-4a93-8b61-5a625bfd7ee2",
   "metadata": {},
   "outputs": [
    {
     "name": "stdout",
     "output_type": "stream",
     "text": [
      "20592\n"
     ]
    }
   ],
   "source": [
    "total_rows = df['Track'].shape[0] # first I count the total number of rows of track column.\n",
    "print(total_rows)"
   ]
  },
  {
   "cell_type": "code",
   "execution_count": 57,
   "id": "7d721353-2e6f-420d-b55f-43a3bda508da",
   "metadata": {},
   "outputs": [
    {
     "name": "stdout",
     "output_type": "stream",
     "text": [
      "20592\n"
     ]
    }
   ],
   "source": [
    "total_licensed = df['Licensed'].sum() ## Sum of True values: Because licensed column is a boolean data type, it will summ all True values.\n",
    "print(total_licensed)\n",
    "\n",
    "# So i will have the total number of rows which have licensed true."
   ]
  },
  {
   "cell_type": "code",
   "execution_count": 58,
   "id": "4871c683-1b10-4403-b1ae-f049decd7f06",
   "metadata": {},
   "outputs": [
    {
     "name": "stdout",
     "output_type": "stream",
     "text": [
      "100.0\n"
     ]
    }
   ],
   "source": [
    "perc = (total_licensed/total_rows) * 100 # counting percentage\n",
    "print(perc)"
   ]
  },
  {
   "cell_type": "markdown",
   "id": "6db6b52a-875a-42f3-851a-65c1b3a35532",
   "metadata": {},
   "source": [
    "##### Here we can say that 100 percentage of tracks are licensed."
   ]
  },
  {
   "cell_type": "markdown",
   "id": "d27fe435-35ba-4bcc-b2a2-98aa12f43397",
   "metadata": {},
   "source": [
    "### Q.10 Which artist has the highest average streams, views, likes, and comments?"
   ]
  },
  {
   "cell_type": "code",
   "execution_count": 61,
   "id": "0c0652e3-a444-45b6-9e78-1874873797c8",
   "metadata": {},
   "outputs": [
    {
     "name": "stdout",
     "output_type": "stream",
     "text": [
      "Post Malone\n",
      "Ed Sheeran\n",
      "BTS\n",
      "BTS\n"
     ]
    }
   ],
   "source": [
    "hgst_avg_stream = df.groupby('Artist')['Stream'].mean().idxmax()\n",
    "hgst_avg_views = df.groupby('Artist')['Views'].mean().idxmax()\n",
    "hgst_avg_likes = df.groupby('Artist')['Likes'].mean().idxmax()\n",
    "hgst_avg_comments = df.groupby('Artist')['Comments'].mean().idxmax()\n",
    "\n",
    "\n",
    "print(hgst_avg_stream)\n",
    "print(hgst_avg_views)\n",
    "print(hgst_avg_likes)\n",
    "print(hgst_avg_comments)"
   ]
  },
  {
   "cell_type": "code",
   "execution_count": 62,
   "id": "1431516a-10b8-440d-b4fd-f62b4279c200",
   "metadata": {},
   "outputs": [
    {
     "name": "stdout",
     "output_type": "stream",
     "text": [
      "Ed Sheeran\n"
     ]
    }
   ],
   "source": [
    "# Method 2\n",
    "avg_of_artist = df.groupby('Artist')[['Stream', 'Views', 'Likes', 'Comments']].mean()\n",
    "top_artist = avg_of_artist.sum(axis=1).idxmax()                       # sum() --adding values across columns. \n",
    "print(top_artist)                                                     # axis=1 -- doing sum row-wise."
   ]
  },
  {
   "cell_type": "markdown",
   "id": "82887602-640c-448c-b16e-d3c8def33a25",
   "metadata": {},
   "source": [
    "##### As we can see that the artist which  has the highest average streams, views, likes, and comments is 'Ed Sheeran'."
   ]
  },
  {
   "cell_type": "markdown",
   "id": "75b009a3-7d25-4f12-95eb-6f44ea77731a",
   "metadata": {},
   "source": [
    "### Q.11 Which audio feature (danceability, energy, speechiness, acousticness, etc.) is most strongly associated with high stream counts or views?"
   ]
  },
  {
   "cell_type": "code",
   "execution_count": 65,
   "id": "0d7b9cb6-90f2-40e9-ab14-b4ba7d8bc194",
   "metadata": {},
   "outputs": [
    {
     "name": "stdout",
     "output_type": "stream",
     "text": [
      "           Stream      Views  Danceability  Energy  Speechiness  Acousticness\n",
      "0      1040234854  693555221             1       1            0             0\n",
      "1       310083733   72011645             1       1            0             0\n",
      "2        63063467    8435055             1       1            0             0\n",
      "3       434663559  211754952             1       1            0             0\n",
      "4       617259738  618480958             1       1            0             0\n",
      "...           ...        ...           ...     ...          ...           ...\n",
      "20589     9227144      71678             1       1            0             0\n",
      "20590    10898176     164741             1       1            0             0\n",
      "20591     6226110      35646             0       1            0             0\n",
      "20592     6873961       6533             0       1            0             0\n",
      "20593     5695584     158697             0       1            0             0\n",
      "\n",
      "[20592 rows x 6 columns]\n"
     ]
    }
   ],
   "source": [
    "features = ['Stream', 'Views', 'Danceability', 'Energy', 'Speechiness', 'Acousticness']\n",
    "df_col = df[features]\n",
    "\n",
    "print(df_col)"
   ]
  },
  {
   "cell_type": "code",
   "execution_count": 66,
   "id": "207c68b5-4cb0-4fee-b13f-3637fcfaee46",
   "metadata": {},
   "outputs": [],
   "source": [
    "# find correlation among them\n",
    "\n",
    "find_corr = df_col.corr()"
   ]
  },
  {
   "cell_type": "code",
   "execution_count": 67,
   "id": "5a11a4ad-1592-4dd6-b8a3-22ce3c5c9355",
   "metadata": {},
   "outputs": [
    {
     "name": "stdout",
     "output_type": "stream",
     "text": [
      "The audio feature most correlated with Streams: Acousticness (Correlation: -0.10)\n",
      "The audio feature most correlated with Views: Danceability (Correlation: 0.09)\n"
     ]
    }
   ],
   "source": [
    "# correlation of Streams & Views\n",
    "corr_stream = find_corr['Stream'].drop(['Stream', 'Views'])\n",
    "corr_view = find_corr['Views'].drop(['Stream', 'Views'])\n",
    "\n",
    "# This helps in Finding the strongest correlated feature (absolute highest) \n",
    "\n",
    "top_colm_stream = corr_stream.abs().idxmax()\n",
    "top_corr_stream = corr_stream[top_colm_stream]\n",
    "\n",
    "top_colm_view = corr_view.abs().idxmax()\n",
    "top_corr_view = corr_view[top_colm_view]\n",
    "\n",
    "\n",
    "print(f\"The audio feature most correlated with Streams: {top_colm_stream} (Correlation: {top_corr_stream:.2f})\")\n",
    "print(f\"The audio feature most correlated with Views: {top_colm_view} (Correlation: {top_corr_view:.2f})\")\n"
   ]
  },
  {
   "cell_type": "markdown",
   "id": "8aa29bc1-8804-4343-b878-8657a1a3f494",
   "metadata": {},
   "source": [
    "##### TO UNDERSTAND CORRELATION : The sign (+ or -) tells the direction of the relationship, and the magnitude (close to 0 or 1) shows the strength of the correlation.\n",
    "###### in case of streams acaustic have weaker relationship and also in negative direction, seems the impact is small. suggests that more acoustic songs tend to have slightly fewer streams, but it's not a strong factor\n",
    "\n",
    "###### In the case of Views, Danceability has a weak positive correlation (0.09). This suggests that more danceable songs tend to get slightly more views, but the impact is small and not a strong factor."
   ]
  },
  {
   "cell_type": "markdown",
   "id": "86cabbd7-1b03-450f-a4d6-73490b9f4bf0",
   "metadata": {},
   "source": [
    "### Q.12 What is the distribution of the EnergyLiveness ratio?"
   ]
  },
  {
   "cell_type": "code",
   "execution_count": 70,
   "id": "b9ed94c0-600a-4283-98ec-04d5345d88a9",
   "metadata": {},
   "outputs": [
    {
     "data": {
      "text/plain": [
       "count   20,592\n",
       "mean         5\n",
       "std          4\n",
       "min          0\n",
       "25%          2\n",
       "50%          4\n",
       "75%          7\n",
       "max         59\n",
       "Name: EnergyLiveness, dtype: float64"
      ]
     },
     "execution_count": 70,
     "metadata": {},
     "output_type": "execute_result"
    }
   ],
   "source": [
    "# Statistical distribution:\n",
    "df['EnergyLiveness'].describe()"
   ]
  },
  {
   "cell_type": "code",
   "execution_count": 71,
   "id": "838a79a0-ef0d-4b5d-949b-aaf7c820c301",
   "metadata": {},
   "outputs": [
    {
     "data": {
      "image/png": "[encoded data removed]",
      "text/plain": [
       "<Figure size 600x300 with 1 Axes>"
      ]
     },
     "metadata": {},
     "output_type": "display_data"
    }
   ],
   "source": [
    "# Graphical representation: with Hist plot\n",
    "\n",
    "plt.figure(figsize=(6,3))\n",
    "plt.hist(df['EnergyLiveness'].dropna(), bins = 30, edgecolor='black', alpha=0.7)\n",
    "plt.xlabel('EnergyLiveness')\n",
    "plt.ylabel('Frequency')\n",
    "plt.title('Distribution of EnergyLiveness')\n",
    "plt.grid(axis='y', linestyle='--')\n",
    "plt.show()"
   ]
  },
  {
   "cell_type": "markdown",
   "id": "9d146302-3bf5-4445-8e79-19ea2e9d4ed9",
   "metadata": {},
   "source": [
    "### Q.13 Plot histograms to show the distribution of danceability, energy, and loudness."
   ]
  },
  {
   "cell_type": "code",
   "execution_count": 73,
   "id": "f28359f9-f21c-4b2c-93e3-a1e31b95ec11",
   "metadata": {},
   "outputs": [
    {
     "data": {
      "image/png": "[encoded data removed]",
      "text/plain": [
       "<Figure size 600x300 with 1 Axes>"
      ]
     },
     "metadata": {},
     "output_type": "display_data"
    }
   ],
   "source": [
    "feature_dan = ['Danceability']\n",
    "\n",
    "plt.figure(figsize = (6,3))\n",
    "plt.hist(df[feature_dan], bins= 30, edgecolor='black',color='red', alpha=0.6)\n",
    "plt.xlabel('Danceability')\n",
    "plt.ylabel('Frequency')\n",
    "plt.title('Distribution of Danceability')\n",
    "plt.show()"
   ]
  },
  {
   "cell_type": "code",
   "execution_count": 74,
   "id": "398dce48-b031-41ad-a2c3-6eb2d21e231c",
   "metadata": {},
   "outputs": [
    {
     "data": {
      "image/png": "[encoded data removed]",
      "text/plain": [
       "<Figure size 600x300 with 1 Axes>"
      ]
     },
     "metadata": {},
     "output_type": "display_data"
    }
   ],
   "source": [
    "feature_eng = ['Energy']\n",
    "plt.figure(figsize=(6,3))\n",
    "plt.hist(df[feature_eng], bins=30, edgecolor='black', color='skyblue', alpha=0.6)\n",
    "plt.xlabel('Energy')\n",
    "plt.ylabel('Frequency')\n",
    "plt.title('Distribution of Energy')\n",
    "plt.show()"
   ]
  },
  {
   "cell_type": "code",
   "execution_count": 75,
   "id": "7ac48ed5-06b0-4ce9-b99b-ed1457bdc973",
   "metadata": {},
   "outputs": [
    {
     "data": {
      "image/png": "[encoded data removed]",
      "text/plain": [
       "<Figure size 600x300 with 1 Axes>"
      ]
     },
     "metadata": {},
     "output_type": "display_data"
    }
   ],
   "source": [
    "feature_loud = ['Loudness']\n",
    "plt.figure(figsize=(6,3))\n",
    "plt.hist(df[feature_loud], edgecolor='black', color='green', bins=30, alpha=0.6)\n",
    "plt.xlabel('Loudness')\n",
    "plt.ylabel('Frequency')\n",
    "plt.title('Distribution of Loudness')\n",
    "plt.show()"
   ]
  },
  {
   "cell_type": "code",
   "execution_count": 76,
   "id": "1534492a-81b5-43a0-b36d-e718720cbad7",
   "metadata": {},
   "outputs": [
    {
     "data": {
      "image/png": "[encoded data removed]",
      "text/plain": [
       "<Figure size 1800x500 with 3 Axes>"
      ]
     },
     "metadata": {},
     "output_type": "display_data"
    }
   ],
   "source": [
    "# SUBPLOT FOR ALL THREE\n",
    "feature_dan = ['Danceability']\n",
    "feature_eng = ['Energy']\n",
    "feature_loud = ['Loudness']\n",
    "\n",
    "fig, axes = plt.subplots(1, 3, figsize=(18, 5))  \n",
    "\n",
    "\n",
    "axes[0].hist(df[feature_dan], bins=30, edgecolor='black', color='red', alpha=0.6) \n",
    "axes[0].set_xlabel('Danceability') # Danceability\n",
    "axes[0].set_ylabel('Frequency')\n",
    "axes[0].set_title('Distribution of Danceability')\n",
    "\n",
    "\n",
    "axes[1].hist(df[feature_eng], bins=30, edgecolor='black', color='skyblue', alpha=0.6)\n",
    "axes[1].set_xlabel('Energy') # Energy\n",
    "axes[1].set_ylabel('Frequency')\n",
    "axes[1].set_title('Distribution of Energy')\n",
    "\n",
    "\n",
    "axes[2].hist(df[feature_loud], bins=30, edgecolor='black', color='green', alpha=0.6)\n",
    "axes[2].set_xlabel('Loudness') # Loudness\n",
    "axes[2].set_ylabel('Frequency')\n",
    "axes[2].set_title('Distribution of Loudness') \n",
    "\n",
    "plt.tight_layout()  \n",
    "plt.show()"
   ]
  },
  {
   "cell_type": "markdown",
   "id": "5b3e365a-66cd-433f-952d-f07276a3ea69",
   "metadata": {},
   "source": [
    "### Q.14 Use scatter plots to explore relationships between tempo and danceability or energy and valence."
   ]
  },
  {
   "cell_type": "code",
   "execution_count": 78,
   "id": "1a297049-14f3-4278-bdd7-02efb8b933a5",
   "metadata": {},
   "outputs": [
    {
     "data": {
      "image/png": "[encoded data removed]",
      "text/plain": [
       "<Figure size 500x300 with 1 Axes>"
      ]
     },
     "metadata": {},
     "output_type": "display_data"
    }
   ],
   "source": [
    "# Scatter plot: Tempo vs Danceability\n",
    "plt.figure(figsize=(5,3))\n",
    "plt.scatter(df['Tempo'], df['Danceability'], color='blue', alpha=0.5)\n",
    "plt.xlabel('Tempo (BPM)')\n",
    "plt.ylabel('Danceability')\n",
    "plt.show()\n",
    "\n",
    "\n",
    "# How to Read a Scatter Plot?\n",
    "# A scatter plot shows the relationship between two variables. Each dot represents a data point. Here one dot means a song.\n",
    "# Positive Correlation (Dots trend upward-right)\n",
    "# Negative Correlation (Dots trend downward-right)\n",
    "# No Clear Pattern (Randomly Scattered Dots)"
   ]
  },
  {
   "cell_type": "markdown",
   "id": "c20ceeca-b35d-4311-ad51-37dd7efdfc59",
   "metadata": {},
   "source": [
    "##### as we can see, here are some songs which have tempo level very low(close to zero), so it could be seen that the danceability of those songs are also very low."
   ]
  },
  {
   "cell_type": "code",
   "execution_count": 80,
   "id": "94c4f15f-2633-459c-bd4b-c369a8301f43",
   "metadata": {},
   "outputs": [
    {
     "data": {
      "image/png": "[encoded data removed]",
      "text/plain": [
       "<Figure size 500x300 with 1 Axes>"
      ]
     },
     "metadata": {},
     "output_type": "display_data"
    }
   ],
   "source": [
    "# Scatter plot: Energy vs Valence\n",
    "plt.figure(figsize=(5,3))\n",
    "plt.scatter(df['Energy'], df['Valence'], color='red', alpha=0.5)\n",
    "plt.xlabel('Energy')\n",
    "plt.ylabel('Valence')\n",
    "plt.title('Energy vs Valence')\n",
    "plt.show()"
   ]
  },
  {
   "cell_type": "markdown",
   "id": "bda0eeb9-4fdd-47a9-b501-2e32cde6b18b",
   "metadata": {},
   "source": [
    "##### Valence: (meaning : describes the musical positivity conveyed by a piece of music. \n",
    "##### Songs with high valence sound more positive(e.g. happy, cheerful). low valance = sad(melancholic songs))\n",
    "\n",
    "#### As we can see that both high and low energy songs are evenly spread across the valence range (0 to 1). it could mean here that  energetic songs can be both happy and sad, and similarly, calm songs also vary in mood. aslo we have already seen that mean = 0.530128, 50% = 0.538000(almost half of max = 993000), min = 0.000000, max = 0.993000, seems a balance because of mean."
   ]
  },
  {
   "cell_type": "code",
   "execution_count": 82,
   "id": "736a88ac-9c04-4530-beed-ee4e445bd043",
   "metadata": {},
   "outputs": [
    {
     "data": {
      "image/png": "[encoded data removed]",
      "text/plain": [
       "<Figure size 900x400 with 2 Axes>"
      ]
     },
     "metadata": {},
     "output_type": "display_data"
    }
   ],
   "source": [
    "# making subplot:\n",
    "\n",
    "fig, axes = plt.subplots(1, 2, figsize=(9, 4))\n",
    "\n",
    "\n",
    "axes[0].scatter(df['Tempo'], df['Danceability'], color='blue', alpha=0.5)\n",
    "axes[0].set_xlabel('Tempo (BPM)')\n",
    "axes[0].set_ylabel('Danceability')\n",
    "axes[0].set_title('Tempo vs Danceability')\n",
    "\n",
    "\n",
    "axes[1].scatter(df['Energy'], df['Valence'], color='red', alpha=0.5)\n",
    "axes[1].set_xlabel('Energy')\n",
    "axes[1].set_ylabel('Valence')\n",
    "axes[1].set_title('Energy vs Valence')\n",
    "\n",
    "plt.tight_layout()\n",
    "plt.show()\n"
   ]
  },
  {
   "cell_type": "markdown",
   "id": "f9e01dbe-b47b-4245-85ae-70d56a8b5cdc",
   "metadata": {},
   "source": [
    "### Q.15 Which Album has the most tracks in the dataset? Using a bar chart."
   ]
  },
  {
   "cell_type": "code",
   "execution_count": 84,
   "id": "34804f66-5c18-4f4c-b7af-b2226d034b6d",
   "metadata": {},
   "outputs": [
    {
     "name": "stdout",
     "output_type": "stream",
     "text": [
      "top_album:  Greatest Hits\n",
      "top_album_count for Greatest Hits:  30\n"
     ]
    },
    {
     "data": {
      "image/png": "[encoded data removed]",
      "text/plain": [
       "<Figure size 1000x600 with 1 Axes>"
      ]
     },
     "metadata": {},
     "output_type": "display_data"
    }
   ],
   "source": [
    "count_of_album = df['Album'].value_counts() # number of tracks\n",
    "top_album = count_of_album.idxmax()  # album with the most tracks: top album\n",
    "top_album_count = count_of_album.max()  # count of the most frequent album\n",
    "\n",
    "print(\"top_album: \", top_album)\n",
    "print(f\"top_album_count for {top_album}: \", top_album_count)\n",
    "\n",
    "# plotting a bar plot\n",
    "plt.figure(figsize=(10, 6))\n",
    "sns.set_theme(style=\"darkgrid\")\n",
    "sns.barplot(x=count_of_album.index[:10], y=count_of_album.values[:10], palette = 'rocket',  hue=count_of_album.index[:10])  # Top 10 albums\n",
    "plt.title(f\"Top Albums by Number of Tracks (Top Album: {top_album})\", fontsize=16)\n",
    "plt.xlabel(\"Album\", fontsize=14)\n",
    "plt.ylabel(\"Number of Tracks\", fontsize=14)\n",
    "plt.xticks(rotation=45, ha='right')  # Rotate x-axis labels for better readability\n",
    "\n",
    "\n",
    "plt.tight_layout()\n",
    "plt.show()"
   ]
  },
  {
   "cell_type": "code",
   "execution_count": 85,
   "id": "775dcd0c-3bf1-411b-ac17-f31afa17796a",
   "metadata": {},
   "outputs": [
    {
     "data": {
      "text/plain": [
       "Index(['Artist', 'Track', 'Album', 'Album_type', 'Danceability', 'Energy',\n",
       "       'Loudness', 'Speechiness', 'Acousticness', 'Instrumentalness',\n",
       "       'Liveness', 'Valence', 'Tempo', 'Duration_min', 'Title', 'Channel',\n",
       "       'Views', 'Likes', 'Comments', 'Licensed', 'official_video', 'Stream',\n",
       "       'EnergyLiveness', 'most_playedon'],\n",
       "      dtype='object')"
      ]
     },
     "execution_count": 85,
     "metadata": {},
     "output_type": "execute_result"
    }
   ],
   "source": [
    "df.columns"
   ]
  },
  {
   "cell_type": "markdown",
   "id": "e2ca4cb4-8161-4748-83ad-373e0dabe6e6",
   "metadata": {},
   "source": [
    "# Here I will use some automatic Data Vizualization Liberaries of python.\n",
    "## 1. Using dtale liberary"
   ]
  },
  {
   "cell_type": "markdown",
   "id": "cd73c652-eb19-4a1c-8162-f70eb9b24768",
   "metadata": {},
   "source": [
    "#### dtale is a Python library that automates Exploratory Data Analysis (EDA) by generating detailed reports on datasets.\n",
    "#### It helps analysts and data scientists quickly understand data characteristics without manually writing code for each analysis."
   ]
  },
  {
   "cell_type": "code",
   "execution_count": 88,
   "id": "e38c75fa-cf05-4dc3-b20b-d8583bafda87",
   "metadata": {},
   "outputs": [],
   "source": [
    "#!pip install dtale"
   ]
  },
  {
   "cell_type": "markdown",
   "id": "84840ec3-4416-4200-b3b8-e3d85c3ffc00",
   "metadata": {},
   "source": [
    "##### importing the dtale liberary."
   ]
  },
  {
   "cell_type": "code",
   "execution_count": 90,
   "id": "2a6f2ebc-c060-4671-adfe-b0888d29e4e2",
   "metadata": {},
   "outputs": [],
   "source": [
    "import dtale"
   ]
  },
  {
   "cell_type": "markdown",
   "id": "3b615ea1-f3c5-4b4a-b7f6-a175f75d3b59",
   "metadata": {},
   "source": [
    "##### showing the data with dtale.show()"
   ]
  },
  {
   "cell_type": "markdown",
   "id": "2a941291-e1bb-4041-808b-f2769d196a5c",
   "metadata": {
    "scrolled": true
   },
   "source": [
    "dtale.show(df) "
   ]
  },
  {
   "cell_type": "markdown",
   "id": "5bec4317-91d1-4c86-a01f-26bfa3fce49e",
   "metadata": {},
   "source": [
    "#### Open it in new tab for interactive data visualization and exploration by clicking on top left corner "
   ]
  },
  {
   "cell_type": "markdown",
   "id": "328545d6-2d28-4d47-a228-b202b4ee423e",
   "metadata": {},
   "source": [
    "## 2. Using ydata_profiling"
   ]
  },
  {
   "cell_type": "code",
   "execution_count": 95,
   "id": "ea3e0613-24b7-4602-9cdb-e81722525a8c",
   "metadata": {
    "scrolled": true
   },
   "outputs": [],
   "source": [
    "#!pip install ydata_profiling"
   ]
  },
  {
   "cell_type": "code",
   "execution_count": 96,
   "id": "4124bd1f-50ce-487f-a1fb-caed90782614",
   "metadata": {},
   "outputs": [],
   "source": [
    "\n",
    "# importing the ydata_profiling liberary\n",
    "from ydata_profiling import ProfileReport"
   ]
  },
  {
   "cell_type": "code",
   "execution_count": 97,
   "id": "83d2a9df-44e8-499d-87ee-1d976a221755",
   "metadata": {},
   "outputs": [],
   "source": [
    "profile = ProfileReport(df, explorative = True)"
   ]
  },
  {
   "cell_type": "code",
   "execution_count": 98,
   "id": "2bc9e356-8ed7-468d-9e63-95104325897e",
   "metadata": {},
   "outputs": [],
   "source": [
    "# importing the ydata_profiling liberary\n",
    "from ydata_profiling import ProfileReport"
   ]
  },
  {
   "cell_type": "code",
   "execution_count": 99,
   "id": "85d3ef1e-503f-4963-8dc2-347c91e1622e",
   "metadata": {},
   "outputs": [],
   "source": [
    "profile = ProfileReport(df, explorative = True)"
   ]
  },
  {
   "cell_type": "markdown",
   "id": "ae417373-9d4a-400f-84b5-0f71d85425a7",
   "metadata": {},
   "source": [
    "##### The dark_mode parameter does not exist in ydata-profiling.\n",
    "##### If you want a dark mode, you must manually enable dark mode in Jupyter Notebook.\n",
    "##### ydata-profiling is a Python library that extends Pandas for automated Exploratory Data Analysis (EDA)."
   ]
  },
  {
   "cell_type": "code",
   "execution_count": 101,
   "id": "245be0e4-5c3d-4c27-9fbe-d66d94911769",
   "metadata": {},
   "outputs": [
    {
     "data": {
      "application/vnd.jupyter.widget-view+json": {
       "model_id": "be72fd36ea5842d8b5e6e557b043608b",
       "version_major": 2,
       "version_minor": 0
      },
      "text/plain": [
       "Summarize dataset:   0%|          | 0/5 [00:00<?, ?it/s]"
      ]
     },
     "metadata": {},
     "output_type": "display_data"
    },
    {
     "data": {
      "application/vnd.jupyter.widget-view+json": {
       "model_id": "94e87ff16e344d24a8acd3ee04b3bdfa",
       "version_major": 2,
       "version_minor": 0
      },
      "text/plain": [
       "Generate report structure:   0%|          | 0/1 [00:00<?, ?it/s]"
      ]
     },
     "metadata": {},
     "output_type": "display_data"
    },
    {
     "data": {
      "application/vnd.jupyter.widget-view+json": {
       "model_id": "3db21ce4e5834966ac5e9f53afdc26bf",
       "version_major": 2,
       "version_minor": 0
      },
      "text/plain": [
       "Render HTML:   0%|          | 0/1 [00:00<?, ?it/s]"
      ]
     },
     "metadata": {},
     "output_type": "display_data"
    },
    {
     "data": {
      "application/vnd.jupyter.widget-view+json": {
       "model_id": "f2eee5c23e684635a3d2aaf28130198b",
       "version_major": 2,
       "version_minor": 0
      },
      "text/plain": [
       "Export report to file:   0%|          | 0/1 [00:00<?, ?it/s]"
      ]
     },
     "metadata": {},
     "output_type": "display_data"
    }
   ],
   "source": [
    "# generating a html page for vizualization and automated Exploratory Data Analysis (EDA)\n",
    "profile.to_file('output.html')"
   ]
  },
  {
   "cell_type": "code",
   "execution_count": 102,
   "id": "18fd5615-b0ac-4c4e-8441-4f2d4da779ef",
   "metadata": {},
   "outputs": [
    {
     "data": {
      "application/vnd.jupyter.widget-view+json": {
       "model_id": "ca590d3ffc6f448dace92d9f8a40d36a",
       "version_major": 2,
       "version_minor": 0
      },
      "text/plain": [
       "Export report to file:   0%|          | 0/1 [00:00<?, ?it/s]"
      ]
     },
     "metadata": {},
     "output_type": "display_data"
    }
   ],
   "source": [
    "\n",
    "# generating a html page for vizualization and automated Exploratory Data Analysis (EDA)\n",
    "profile.to_file('output.html')"
   ]
  },
  {
   "cell_type": "markdown",
   "id": "364feb25-e756-4776-8ab7-be671e5e0cdb",
   "metadata": {},
   "source": [
    "##### In my current_directory/current_folder, there is a output.html file, which open in google for vizualization and automated Exploratory Data Analysis (EDA) to explore the report interactively."
   ]
  },
  {
   "cell_type": "code",
   "execution_count": 174,
   "id": "8d062134-6527-4b32-968c-6ad3a26d4276",
   "metadata": {
    "scrolled": true
   },
   "outputs": [],
   "source": [
    "# I have an output.html file in my current directory, but I can also see the report here in jupyter notebook:\n",
    "\n",
    "# profile.to_notebook_iframe()"
   ]
  },
  {
   "cell_type": "markdown",
   "id": "80d8a828-57a6-4bbb-a732-a21cedf49908",
   "metadata": {},
   "source": [
    "\n",
    "Through this report we can easily see the correlations heatmap and table in very less time. We can understand data easily by this report.\n",
    "There is an Interaction section in the report through which we can analyze how two numerical variables relate to each other.\n",
    "\n",
    "Interaction Section: \n",
    "1. We can see Scatter Plots.\n",
    "2. We can correlate the two features to identify patterns or trends\n",
    "3. It also helps in finding outliers\n",
    "\n",
    "Q.14 Use scatter plots to explore relationships between tempo and danceability or energy and valence.\n",
    "Above Question I have sove through the scatter plotting, but in the report we can easily find the relationship between tempo and danceability or energy and valence.\n",
    "\n",
    "IF I go to the variable section and select in it, Danceability, then I would have all the statistical analysis handy very easily. \n",
    "We can easily see the distribution Graph.\n",
    "\n",
    "There is also functionality to analyse the Quantile statistics aand Descriptive statistics\n"
   ]
  },
  {
   "cell_type": "markdown",
   "id": "d851333c-00a9-4d13-9afa-9ee432138867",
   "metadata": {},
   "source": [
    "# 3. Using dataprepLiberary"
   ]
  },
  {
   "cell_type": "markdown",
   "id": "1546af73-00e1-473a-889a-a9ab4b42309e",
   "metadata": {},
   "source": [
    "## In jupyter notebook this liberary is not working but I have used 'VS Code' it is working without any discripencies by just running few lines of code mentioned below: \n",
    "import pandas as pd\n",
    "\n",
    "!pip install dataprep\n",
    "!pip install --upgrade pip            --> in terminal of VS Code\n",
    "\n",
    "from dataprep.eda import create_report\n",
    "\n",
    "-->Example dataset (replace with your actual DataFrame)\n",
    "df = pd.read_csv(\"Spotify_data.csv\")\n",
    "\n",
    "report = create_report(df)\n",
    "report.show()  \n",
    "report.save(\"data_prep_report.html\")\n",
    "\n",
    "create_report(df).show_browser() # directly opens brower\n",
    "\n",
    "-->Save report in folder\n",
    "report = create_report(df)\n",
    "report.save(\"eda_report.html\")  # Report has been saved to eda_report.html! in the current directory.\n",
    "\n",
    "\n",
    "And It could also work fine in google collab online.rowser()"
   ]
  },
  {
   "cell_type": "code",
   "execution_count": 172,
   "id": "8041fe71-6a3f-4d14-809a-b265e4521395",
   "metadata": {},
   "outputs": [
    {
     "data": {
      "text/plain": [
       "Index(['Artist', 'Track', 'Album', 'Album_type', 'Danceability', 'Energy',\n",
       "       'Loudness', 'Speechiness', 'Acousticness', 'Instrumentalness',\n",
       "       'Liveness', 'Valence', 'Tempo', 'Duration_min', 'Title', 'Channel',\n",
       "       'Views', 'Likes', 'Comments', 'Licensed', 'official_video', 'Stream',\n",
       "       'EnergyLiveness', 'most_playedon'],\n",
       "      dtype='object')"
      ]
     },
     "execution_count": 172,
     "metadata": {},
     "output_type": "execute_result"
    }
   ],
   "source": [
    "df.columns"
   ]
  },
  {
   "cell_type": "code",
   "execution_count": null,
   "id": "d89300fc-d888-4aae-86ce-7150cce154b9",
   "metadata": {},
   "outputs": [],
   "source": []
  },
  {
   "cell_type": "code",
   "execution_count": null,
   "id": "94ac7909-e59c-4a46-ba21-9f23d9f74d41",
   "metadata": {},
   "outputs": [],
   "source": []
  },
  {
   "cell_type": "code",
   "execution_count": null,
   "id": "d19bd11b-4604-465e-93c0-625bbca7b3a7",
   "metadata": {},
   "outputs": [],
   "source": []
  },
  {
   "cell_type": "code",
   "execution_count": null,
   "id": "44e9a35f-e230-456e-b04b-3da7d9361d02",
   "metadata": {},
   "outputs": [],
   "source": []
  }
 ],
 "metadata": {
  "kernelspec": {
   "display_name": "Python 3 (ipykernel)",
   "language": "python",
   "name": "python3"
  },
  "language_info": {
   "codemirror_mode": {
    "name": "ipython",
    "version": 3
   },
   "file_extension": ".py",
   "mimetype": "text/x-python",
   "name": "python",
   "nbconvert_exporter": "python",
   "pygments_lexer": "ipython3",
   "version": "3.12.4"
  }
 },
 "nbformat": 4,
 "nbformat_minor": 5
}
